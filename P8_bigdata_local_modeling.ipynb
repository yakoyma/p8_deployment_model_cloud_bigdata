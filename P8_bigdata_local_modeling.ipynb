{
 "cells": [
  {
   "cell_type": "markdown",
   "id": "0e31e3b5",
   "metadata": {},
   "source": [
    "# Projet 8 : Déployez un modèle dans le cloud"
   ]
  },
  {
   "cell_type": "markdown",
   "id": "656cf5f0",
   "metadata": {},
   "source": [
    "Ce notebook a pour objectif de développer dans un environnement Big Data une première chaîne de traitement des données qui comprend le preprocessing et une étape de réduction de dimension. L'architecture Big Data doit permettre le passage à l’échelle avec des données massives. Une classification supervisée rapide est également implémentée.\n",
    "\n",
    "Le notebook est organisé de la manière suivante :\n",
    "\n",
    "* [**1. Prétraitement**](#1.-Prétraitement)\n",
    "  * [**1.1 Configuration de Spark**](#1.1-Configuration-de-Spark)\n",
    "  * [**1.2 Import des images**](#1.2-Import-des-images)\n",
    "  * [**1.3 Extraction de features par le Transfer Learning**](#1.3-Extraction-de-features-par-le-Transfer-Learning)\n",
    "* [**2. Réduction de dimension**](#2.-Réduction-de-dimension)\n",
    "  * [**2.1 Prétraitement des données**](#2.1-Prétraitement-des-données)\n",
    "    * [**2.1.1 Vectorisation**](#2.1.1-Vectorisation)\n",
    "    * [**2.1.2 Standardisation**](#2.1.2-Standardisation)\n",
    "  * [**2.2 Analyse en composantes principales ou ACP**](#2.2-Analyse-en-composantes-principales-ou-ACP)\n",
    "  * [**2.3 Export et sauvegarde du résultat de la réduction de dimension**](#2.3-Export-et-sauvegarde-du-résultat-de-la-réduction-de-dimension)\n",
    "* [**Conclusion**](#Conclusion)"
   ]
  },
  {
   "cell_type": "code",
   "execution_count": 1,
   "id": "f53100ef",
   "metadata": {},
   "outputs": [
    {
     "name": "stdout",
     "output_type": "stream",
     "text": [
      "Populating the interactive namespace from numpy and matplotlib\n"
     ]
    }
   ],
   "source": [
    "# Project 8: Deploy a model in the cloud\n",
    "# Import libraries\n",
    "import os\n",
    "import logging\n",
    "import warnings\n",
    "import pandas as pd\n",
    "%pylab inline\n",
    "import seaborn as sns\n",
    "# import time\n",
    "\n",
    "# I/O library\n",
    "import io\n",
    "\n",
    "# Import PySpark\n",
    "import pyspark\n",
    "import findspark\n",
    "findspark.init()\n",
    "findspark.find()\n",
    "\n",
    "# Image processing librairies\n",
    "from PIL import Image\n",
    "\n",
    "# CNN (Convolutional Neural Network) Transfer learning libraries\n",
    "from tensorflow.keras.applications.resnet50 import ResNet50, preprocess_input\n",
    "from tensorflow.keras.preprocessing.image import load_img, img_to_array\n",
    "\n",
    "# Pyspark library\n",
    "from pyspark import SparkContext\n",
    "from pyspark.sql import SparkSession\n",
    "from pyspark.sql.functions import col, split, udf, pandas_udf, PandasUDFType\n",
    "from pyspark.ml.linalg import Vectors, VectorUDT\n",
    "from pyspark.ml.feature import StringIndexer, StandardScaler, PCA\n",
    "\n",
    "# I/O library\n",
    "from io import StringIO\n",
    "\n",
    "# Disable WARNING, INFO and DEBUG logging everywhere\n",
    "os.environ['TF_CPP_MIN_LOG_LEVEL'] = '3'\n",
    "logging.disable(logging.WARNING)\n",
    "warnings.filterwarnings('ignore')\n",
    "\n",
    "plt.style.use('seaborn')"
   ]
  },
  {
   "cell_type": "code",
   "execution_count": 2,
   "id": "bd88eb82",
   "metadata": {},
   "outputs": [
    {
     "name": "stdout",
     "output_type": "stream",
     "text": [
      "/home/ubuntu/anaconda3/bin/python\n"
     ]
    }
   ],
   "source": [
    "print(os.environ['PYSPARK_PYTHON'])"
   ]
  },
  {
   "cell_type": "code",
   "execution_count": 3,
   "id": "922186f3",
   "metadata": {},
   "outputs": [
    {
     "data": {
      "text/plain": [
       "'3.0.3'"
      ]
     },
     "execution_count": 3,
     "metadata": {},
     "output_type": "execute_result"
    }
   ],
   "source": [
    "pyspark.__version__"
   ]
  },
  {
   "cell_type": "markdown",
   "id": "4aeada4c",
   "metadata": {},
   "source": [
    "# 1. Prétraitement"
   ]
  },
  {
   "cell_type": "markdown",
   "id": "76d94aa2",
   "metadata": {},
   "source": [
    "- Les caractéristiques de l'instance EC2 sélectionnées :\n",
    "  - Le modèle : Ubuntu Server 20.04 LTS ;\n",
    "  - Le type : t3a large ;\n",
    "  - La RAM : 8 Go ;\n",
    "  - Capacité de stockage : 30 Go.\n",
    "- Pour évaluer à l'avance les besoins, il est possible de réaliser des tests dans un environnement de développement (pour analyser les limites des systèmes) avec une distribution Linux gratuite (machine virtuelle Ubuntu pour les utilisateurs de Windows).\n",
    "- La librairie (kit SDK AWS) \"Boto3\" permet de créer, de configurer et de gérer les services AWS.\n",
    "- L’architecture Big Data est composée de 3 services :\n",
    "  - Le service S3 (Simple Storage Service) sert à stocker les données.\n",
    "  - Le service EC2 (Elastic Compute Cloud) est le serveur qui permet de faire les calculs.\n",
    "  - Le service IAM (Identity and Access Management) permet de gérer les utilisateurs."
   ]
  },
  {
   "cell_type": "markdown",
   "id": "0f3acd36",
   "metadata": {},
   "source": [
    "## 1.1 Configuration de Spark"
   ]
  },
  {
   "cell_type": "markdown",
   "id": "11c7c65f",
   "metadata": {},
   "source": [
    "- Spark est un framework open source de calcul distribué (parallélisation des calculs) pour le traitement des données massives :\n",
    "  - Le module \"findspark\" permet de localiser Spark sur le serveur EC2.\n",
    "  - Un SparkContext gère les propriétés globales de l'application Spark telles que le niveau de logging, le niveau de parallélisation par défaut, etc.\n",
    "- Hadoop est un framework logiciel dédié au stockage et au traitement de larges volumes de données :\n",
    "  - L’ordonnancement des traitements.\n",
    "  - La localisation des fichiers.\n",
    "  - La distribution de l’exécution sur les noeuds.\n",
    "- PySpark est une interface pour Apache Spark en Python qui par défaut utilise scala."
   ]
  },
  {
   "cell_type": "code",
   "execution_count": 4,
   "id": "68562d9f",
   "metadata": {},
   "outputs": [
    {
     "name": "stderr",
     "output_type": "stream",
     "text": [
      "22/05/30 19:03:34 WARN Utils: Your hostname, ubuntu-2204 resolves to a loopback address: 127.0.1.1; using 192.168.253.131 instead (on interface ens33)\n",
      "22/05/30 19:03:34 WARN Utils: Set SPARK_LOCAL_IP if you need to bind to another address\n",
      "22/05/30 19:03:35 WARN NativeCodeLoader: Unable to load native-hadoop library for your platform... using builtin-java classes where applicable\n",
      "Using Spark's default log4j profile: org/apache/spark/log4j-defaults.properties\n",
      "Setting default log level to \"WARN\".\n",
      "To adjust logging level use sc.setLogLevel(newLevel). For SparkR, use setLogLevel(newLevel).\n"
     ]
    }
   ],
   "source": [
    "# 1. Preprocessing\n",
    "# 1.1 Spark configuration\n",
    "# Creating the SparkSession\n",
    "spark = (SparkSession\n",
    "         .builder.master('local[*]')\n",
    "         .appName('p8_cloud_bigdata_aws')\n",
    "         .getOrCreate())\n",
    "\n",
    "# Instantiate SparkContext\n",
    "sc = spark.sparkContext\n",
    "\n",
    "# Adjust logging level\n",
    "sc.setLogLevel('ERROR')"
   ]
  },
  {
   "cell_type": "code",
   "execution_count": 5,
   "id": "34dcdbbf",
   "metadata": {},
   "outputs": [],
   "source": [
    "# Enabling Arrow-based columnar data transfers\n",
    "# Enabling for Conversion to/from Pandas\n",
    "spark.conf.set(\"spark.sql.execution.arrow.pyspark.enabled\", \"true\")"
   ]
  },
  {
   "cell_type": "code",
   "execution_count": 6,
   "id": "2e4e8aae",
   "metadata": {},
   "outputs": [
    {
     "data": {
      "text/html": [
       "\n",
       "            <div>\n",
       "                <p><b>SparkSession - in-memory</b></p>\n",
       "                \n",
       "        <div>\n",
       "            <p><b>SparkContext</b></p>\n",
       "\n",
       "            <p><a href=\"http://192.168.253.131:4040\">Spark UI</a></p>\n",
       "\n",
       "            <dl>\n",
       "              <dt>Version</dt>\n",
       "                <dd><code>v3.0.3</code></dd>\n",
       "              <dt>Master</dt>\n",
       "                <dd><code>local[*]</code></dd>\n",
       "              <dt>AppName</dt>\n",
       "                <dd><code>p8_cloud_bigdata_aws</code></dd>\n",
       "            </dl>\n",
       "        </div>\n",
       "        \n",
       "            </div>\n",
       "        "
      ],
      "text/plain": [
       "<pyspark.sql.session.SparkSession at 0x7f9f6a7f10d0>"
      ]
     },
     "execution_count": 6,
     "metadata": {},
     "output_type": "execute_result"
    }
   ],
   "source": [
    "# Displaying the SpakSession information\n",
    "spark"
   ]
  },
  {
   "cell_type": "markdown",
   "id": "ef44adb1",
   "metadata": {},
   "source": [
    "## 1.2 Import des images"
   ]
  },
  {
   "cell_type": "markdown",
   "id": "ab249ac2",
   "metadata": {},
   "source": [
    "Nous commençons par charger les images dans un Spark dataframe."
   ]
  },
  {
   "cell_type": "code",
   "execution_count": 7,
   "id": "96d66987",
   "metadata": {},
   "outputs": [
    {
     "name": "stderr",
     "output_type": "stream",
     "text": [
      "                                                                                \r"
     ]
    },
    {
     "name": "stdout",
     "output_type": "stream",
     "text": [
      "6231\n",
      "+--------------------+------+--------------------+\n",
      "|                path|length|             content|\n",
      "+--------------------+------+--------------------+\n",
      "|file:/home/ubuntu...| 73525|[FF D8 FF E0 00 1...|\n",
      "|file:/home/ubuntu...| 72437|[FF D8 FF E0 00 1...|\n",
      "|file:/home/ubuntu...| 72084|[FF D8 FF E0 00 1...|\n",
      "|file:/home/ubuntu...| 71996|[FF D8 FF E0 00 1...|\n",
      "|file:/home/ubuntu...| 71903|[FF D8 FF E0 00 1...|\n",
      "|file:/home/ubuntu...| 71876|[FF D8 FF E0 00 1...|\n",
      "|file:/home/ubuntu...| 71687|[FF D8 FF E0 00 1...|\n",
      "|file:/home/ubuntu...| 71686|[FF D8 FF E0 00 1...|\n",
      "|file:/home/ubuntu...| 71660|[FF D8 FF E0 00 1...|\n",
      "|file:/home/ubuntu...| 71610|[FF D8 FF E0 00 1...|\n",
      "+--------------------+------+--------------------+\n",
      "only showing top 10 rows\n",
      "\n"
     ]
    }
   ],
   "source": [
    "# 1.2 Loading images in a Spark dataframe\n",
    "categories_path = '/home/user/code/fruits-360-original-size/Training/'\n",
    "categories = os.listdir(categories_path)\n",
    "for i in range(len(categories)):\n",
    "    pictures_path = categories_path + categories[i] + '/'\n",
    "    category_df = spark.read.format(\n",
    "        'binaryFile').option(\n",
    "        'pathGlobFilter', '*.jpg').option(\n",
    "        'recursiveFileLookup', 'true').load(pictures_path, inferschema=True)\n",
    "    if i == 0:\n",
    "        images_df = category_df\n",
    "    else:\n",
    "        images_df = images_df.union(category_df)\n",
    "images_df = images_df.select('path', 'length', 'content')\n",
    "print(images_df.count())\n",
    "images_df.show(10)"
   ]
  },
  {
   "cell_type": "markdown",
   "id": "04ada79b",
   "metadata": {},
   "source": [
    "Nous sélectionnons ensuite les colonnes pertinentes."
   ]
  },
  {
   "cell_type": "code",
   "execution_count": 8,
   "id": "65688ddb",
   "metadata": {},
   "outputs": [
    {
     "name": "stdout",
     "output_type": "stream",
     "text": [
      "+--------------------+--------------------+----------+\n",
      "|                path|             content|  category|\n",
      "+--------------------+--------------------+----------+\n",
      "|file:/home/ubuntu...|[FF D8 FF E0 00 1...|cucumber_3|\n",
      "|file:/home/ubuntu...|[FF D8 FF E0 00 1...|cucumber_3|\n",
      "|file:/home/ubuntu...|[FF D8 FF E0 00 1...|cucumber_3|\n",
      "|file:/home/ubuntu...|[FF D8 FF E0 00 1...|cucumber_3|\n",
      "|file:/home/ubuntu...|[FF D8 FF E0 00 1...|cucumber_3|\n",
      "|file:/home/ubuntu...|[FF D8 FF E0 00 1...|cucumber_3|\n",
      "|file:/home/ubuntu...|[FF D8 FF E0 00 1...|cucumber_3|\n",
      "|file:/home/ubuntu...|[FF D8 FF E0 00 1...|cucumber_3|\n",
      "|file:/home/ubuntu...|[FF D8 FF E0 00 1...|cucumber_3|\n",
      "|file:/home/ubuntu...|[FF D8 FF E0 00 1...|cucumber_3|\n",
      "+--------------------+--------------------+----------+\n",
      "only showing top 10 rows\n",
      "\n"
     ]
    }
   ],
   "source": [
    "# Selection of relevant columns of the dataframe\n",
    "images_df = images_df.withColumn(\n",
    "    'category', split(col('path'), '/').getItem(6))\n",
    "images_df = images_df.select('path', 'content', 'category')\n",
    "images_df.show(10)"
   ]
  },
  {
   "cell_type": "markdown",
   "id": "2ddb9960",
   "metadata": {},
   "source": [
    "## 1.3 Extraction de features par le Transfer Learning"
   ]
  },
  {
   "cell_type": "markdown",
   "id": "76bbc25a",
   "metadata": {},
   "source": [
    "Nous allons ensuite effectuer l'extraction de features par le Transfer Learning. On commence par charger un algorithme de type réseaux de neurones convolutifs (CNN). Il existe plusieurs modèles pré-entraînés (ResNet50, VGG16, EfficientNetB7, etc.), il faut donc sélectionner le modèle le plus adapté à la tâche à effectuer. Le modèle sélectionné est le ResNet50 pré-entraîné sur ImageNet."
   ]
  },
  {
   "cell_type": "code",
   "execution_count": 9,
   "id": "97f7ef1f",
   "metadata": {
    "scrolled": false
   },
   "outputs": [
    {
     "name": "stdout",
     "output_type": "stream",
     "text": [
      "Model: \"resnet50\"\n",
      "__________________________________________________________________________________________________\n",
      "Layer (type)                    Output Shape         Param #     Connected to                     \n",
      "==================================================================================================\n",
      "input_1 (InputLayer)            [(None, 224, 224, 3) 0                                            \n",
      "__________________________________________________________________________________________________\n",
      "conv1_pad (ZeroPadding2D)       (None, 230, 230, 3)  0           input_1[0][0]                    \n",
      "__________________________________________________________________________________________________\n",
      "conv1_conv (Conv2D)             (None, 112, 112, 64) 9472        conv1_pad[0][0]                  \n",
      "__________________________________________________________________________________________________\n",
      "conv1_bn (BatchNormalization)   (None, 112, 112, 64) 256         conv1_conv[0][0]                 \n",
      "__________________________________________________________________________________________________\n",
      "conv1_relu (Activation)         (None, 112, 112, 64) 0           conv1_bn[0][0]                   \n",
      "__________________________________________________________________________________________________\n",
      "pool1_pad (ZeroPadding2D)       (None, 114, 114, 64) 0           conv1_relu[0][0]                 \n",
      "__________________________________________________________________________________________________\n",
      "pool1_pool (MaxPooling2D)       (None, 56, 56, 64)   0           pool1_pad[0][0]                  \n",
      "__________________________________________________________________________________________________\n",
      "conv2_block1_1_conv (Conv2D)    (None, 56, 56, 64)   4160        pool1_pool[0][0]                 \n",
      "__________________________________________________________________________________________________\n",
      "conv2_block1_1_bn (BatchNormali (None, 56, 56, 64)   256         conv2_block1_1_conv[0][0]        \n",
      "__________________________________________________________________________________________________\n",
      "conv2_block1_1_relu (Activation (None, 56, 56, 64)   0           conv2_block1_1_bn[0][0]          \n",
      "__________________________________________________________________________________________________\n",
      "conv2_block1_2_conv (Conv2D)    (None, 56, 56, 64)   36928       conv2_block1_1_relu[0][0]        \n",
      "__________________________________________________________________________________________________\n",
      "conv2_block1_2_bn (BatchNormali (None, 56, 56, 64)   256         conv2_block1_2_conv[0][0]        \n",
      "__________________________________________________________________________________________________\n",
      "conv2_block1_2_relu (Activation (None, 56, 56, 64)   0           conv2_block1_2_bn[0][0]          \n",
      "__________________________________________________________________________________________________\n",
      "conv2_block1_0_conv (Conv2D)    (None, 56, 56, 256)  16640       pool1_pool[0][0]                 \n",
      "__________________________________________________________________________________________________\n",
      "conv2_block1_3_conv (Conv2D)    (None, 56, 56, 256)  16640       conv2_block1_2_relu[0][0]        \n",
      "__________________________________________________________________________________________________\n",
      "conv2_block1_0_bn (BatchNormali (None, 56, 56, 256)  1024        conv2_block1_0_conv[0][0]        \n",
      "__________________________________________________________________________________________________\n",
      "conv2_block1_3_bn (BatchNormali (None, 56, 56, 256)  1024        conv2_block1_3_conv[0][0]        \n",
      "__________________________________________________________________________________________________\n",
      "conv2_block1_add (Add)          (None, 56, 56, 256)  0           conv2_block1_0_bn[0][0]          \n",
      "                                                                 conv2_block1_3_bn[0][0]          \n",
      "__________________________________________________________________________________________________\n",
      "conv2_block1_out (Activation)   (None, 56, 56, 256)  0           conv2_block1_add[0][0]           \n",
      "__________________________________________________________________________________________________\n",
      "conv2_block2_1_conv (Conv2D)    (None, 56, 56, 64)   16448       conv2_block1_out[0][0]           \n",
      "__________________________________________________________________________________________________\n",
      "conv2_block2_1_bn (BatchNormali (None, 56, 56, 64)   256         conv2_block2_1_conv[0][0]        \n",
      "__________________________________________________________________________________________________\n",
      "conv2_block2_1_relu (Activation (None, 56, 56, 64)   0           conv2_block2_1_bn[0][0]          \n",
      "__________________________________________________________________________________________________\n",
      "conv2_block2_2_conv (Conv2D)    (None, 56, 56, 64)   36928       conv2_block2_1_relu[0][0]        \n",
      "__________________________________________________________________________________________________\n",
      "conv2_block2_2_bn (BatchNormali (None, 56, 56, 64)   256         conv2_block2_2_conv[0][0]        \n",
      "__________________________________________________________________________________________________\n",
      "conv2_block2_2_relu (Activation (None, 56, 56, 64)   0           conv2_block2_2_bn[0][0]          \n",
      "__________________________________________________________________________________________________\n",
      "conv2_block2_3_conv (Conv2D)    (None, 56, 56, 256)  16640       conv2_block2_2_relu[0][0]        \n",
      "__________________________________________________________________________________________________\n",
      "conv2_block2_3_bn (BatchNormali (None, 56, 56, 256)  1024        conv2_block2_3_conv[0][0]        \n",
      "__________________________________________________________________________________________________\n",
      "conv2_block2_add (Add)          (None, 56, 56, 256)  0           conv2_block1_out[0][0]           \n",
      "                                                                 conv2_block2_3_bn[0][0]          \n",
      "__________________________________________________________________________________________________\n",
      "conv2_block2_out (Activation)   (None, 56, 56, 256)  0           conv2_block2_add[0][0]           \n",
      "__________________________________________________________________________________________________\n",
      "conv2_block3_1_conv (Conv2D)    (None, 56, 56, 64)   16448       conv2_block2_out[0][0]           \n",
      "__________________________________________________________________________________________________\n",
      "conv2_block3_1_bn (BatchNormali (None, 56, 56, 64)   256         conv2_block3_1_conv[0][0]        \n",
      "__________________________________________________________________________________________________\n",
      "conv2_block3_1_relu (Activation (None, 56, 56, 64)   0           conv2_block3_1_bn[0][0]          \n",
      "__________________________________________________________________________________________________\n",
      "conv2_block3_2_conv (Conv2D)    (None, 56, 56, 64)   36928       conv2_block3_1_relu[0][0]        \n",
      "__________________________________________________________________________________________________\n",
      "conv2_block3_2_bn (BatchNormali (None, 56, 56, 64)   256         conv2_block3_2_conv[0][0]        \n",
      "__________________________________________________________________________________________________\n",
      "conv2_block3_2_relu (Activation (None, 56, 56, 64)   0           conv2_block3_2_bn[0][0]          \n",
      "__________________________________________________________________________________________________\n",
      "conv2_block3_3_conv (Conv2D)    (None, 56, 56, 256)  16640       conv2_block3_2_relu[0][0]        \n",
      "__________________________________________________________________________________________________\n",
      "conv2_block3_3_bn (BatchNormali (None, 56, 56, 256)  1024        conv2_block3_3_conv[0][0]        \n",
      "__________________________________________________________________________________________________\n",
      "conv2_block3_add (Add)          (None, 56, 56, 256)  0           conv2_block2_out[0][0]           \n",
      "                                                                 conv2_block3_3_bn[0][0]          \n",
      "__________________________________________________________________________________________________\n",
      "conv2_block3_out (Activation)   (None, 56, 56, 256)  0           conv2_block3_add[0][0]           \n",
      "__________________________________________________________________________________________________\n",
      "conv3_block1_1_conv (Conv2D)    (None, 28, 28, 128)  32896       conv2_block3_out[0][0]           \n",
      "__________________________________________________________________________________________________\n",
      "conv3_block1_1_bn (BatchNormali (None, 28, 28, 128)  512         conv3_block1_1_conv[0][0]        \n",
      "__________________________________________________________________________________________________\n",
      "conv3_block1_1_relu (Activation (None, 28, 28, 128)  0           conv3_block1_1_bn[0][0]          \n",
      "__________________________________________________________________________________________________\n",
      "conv3_block1_2_conv (Conv2D)    (None, 28, 28, 128)  147584      conv3_block1_1_relu[0][0]        \n",
      "__________________________________________________________________________________________________\n",
      "conv3_block1_2_bn (BatchNormali (None, 28, 28, 128)  512         conv3_block1_2_conv[0][0]        \n",
      "__________________________________________________________________________________________________\n",
      "conv3_block1_2_relu (Activation (None, 28, 28, 128)  0           conv3_block1_2_bn[0][0]          \n",
      "__________________________________________________________________________________________________\n",
      "conv3_block1_0_conv (Conv2D)    (None, 28, 28, 512)  131584      conv2_block3_out[0][0]           \n",
      "__________________________________________________________________________________________________\n",
      "conv3_block1_3_conv (Conv2D)    (None, 28, 28, 512)  66048       conv3_block1_2_relu[0][0]        \n",
      "__________________________________________________________________________________________________\n",
      "conv3_block1_0_bn (BatchNormali (None, 28, 28, 512)  2048        conv3_block1_0_conv[0][0]        \n",
      "__________________________________________________________________________________________________\n",
      "conv3_block1_3_bn (BatchNormali (None, 28, 28, 512)  2048        conv3_block1_3_conv[0][0]        \n",
      "__________________________________________________________________________________________________\n",
      "conv3_block1_add (Add)          (None, 28, 28, 512)  0           conv3_block1_0_bn[0][0]          \n",
      "                                                                 conv3_block1_3_bn[0][0]          \n",
      "__________________________________________________________________________________________________\n",
      "conv3_block1_out (Activation)   (None, 28, 28, 512)  0           conv3_block1_add[0][0]           \n",
      "__________________________________________________________________________________________________\n",
      "conv3_block2_1_conv (Conv2D)    (None, 28, 28, 128)  65664       conv3_block1_out[0][0]           \n",
      "__________________________________________________________________________________________________\n",
      "conv3_block2_1_bn (BatchNormali (None, 28, 28, 128)  512         conv3_block2_1_conv[0][0]        \n",
      "__________________________________________________________________________________________________\n",
      "conv3_block2_1_relu (Activation (None, 28, 28, 128)  0           conv3_block2_1_bn[0][0]          \n",
      "__________________________________________________________________________________________________\n",
      "conv3_block2_2_conv (Conv2D)    (None, 28, 28, 128)  147584      conv3_block2_1_relu[0][0]        \n",
      "__________________________________________________________________________________________________\n",
      "conv3_block2_2_bn (BatchNormali (None, 28, 28, 128)  512         conv3_block2_2_conv[0][0]        \n",
      "__________________________________________________________________________________________________\n",
      "conv3_block2_2_relu (Activation (None, 28, 28, 128)  0           conv3_block2_2_bn[0][0]          \n",
      "__________________________________________________________________________________________________\n",
      "conv3_block2_3_conv (Conv2D)    (None, 28, 28, 512)  66048       conv3_block2_2_relu[0][0]        \n",
      "__________________________________________________________________________________________________\n",
      "conv3_block2_3_bn (BatchNormali (None, 28, 28, 512)  2048        conv3_block2_3_conv[0][0]        \n",
      "__________________________________________________________________________________________________\n",
      "conv3_block2_add (Add)          (None, 28, 28, 512)  0           conv3_block1_out[0][0]           \n",
      "                                                                 conv3_block2_3_bn[0][0]          \n",
      "__________________________________________________________________________________________________\n",
      "conv3_block2_out (Activation)   (None, 28, 28, 512)  0           conv3_block2_add[0][0]           \n",
      "__________________________________________________________________________________________________\n",
      "conv3_block3_1_conv (Conv2D)    (None, 28, 28, 128)  65664       conv3_block2_out[0][0]           \n",
      "__________________________________________________________________________________________________\n",
      "conv3_block3_1_bn (BatchNormali (None, 28, 28, 128)  512         conv3_block3_1_conv[0][0]        \n",
      "__________________________________________________________________________________________________\n",
      "conv3_block3_1_relu (Activation (None, 28, 28, 128)  0           conv3_block3_1_bn[0][0]          \n",
      "__________________________________________________________________________________________________\n",
      "conv3_block3_2_conv (Conv2D)    (None, 28, 28, 128)  147584      conv3_block3_1_relu[0][0]        \n",
      "__________________________________________________________________________________________________\n",
      "conv3_block3_2_bn (BatchNormali (None, 28, 28, 128)  512         conv3_block3_2_conv[0][0]        \n",
      "__________________________________________________________________________________________________\n",
      "conv3_block3_2_relu (Activation (None, 28, 28, 128)  0           conv3_block3_2_bn[0][0]          \n",
      "__________________________________________________________________________________________________\n",
      "conv3_block3_3_conv (Conv2D)    (None, 28, 28, 512)  66048       conv3_block3_2_relu[0][0]        \n",
      "__________________________________________________________________________________________________\n",
      "conv3_block3_3_bn (BatchNormali (None, 28, 28, 512)  2048        conv3_block3_3_conv[0][0]        \n",
      "__________________________________________________________________________________________________\n",
      "conv3_block3_add (Add)          (None, 28, 28, 512)  0           conv3_block2_out[0][0]           \n",
      "                                                                 conv3_block3_3_bn[0][0]          \n",
      "__________________________________________________________________________________________________\n",
      "conv3_block3_out (Activation)   (None, 28, 28, 512)  0           conv3_block3_add[0][0]           \n",
      "__________________________________________________________________________________________________\n",
      "conv3_block4_1_conv (Conv2D)    (None, 28, 28, 128)  65664       conv3_block3_out[0][0]           \n",
      "__________________________________________________________________________________________________\n",
      "conv3_block4_1_bn (BatchNormali (None, 28, 28, 128)  512         conv3_block4_1_conv[0][0]        \n",
      "__________________________________________________________________________________________________\n",
      "conv3_block4_1_relu (Activation (None, 28, 28, 128)  0           conv3_block4_1_bn[0][0]          \n",
      "__________________________________________________________________________________________________\n",
      "conv3_block4_2_conv (Conv2D)    (None, 28, 28, 128)  147584      conv3_block4_1_relu[0][0]        \n",
      "__________________________________________________________________________________________________\n",
      "conv3_block4_2_bn (BatchNormali (None, 28, 28, 128)  512         conv3_block4_2_conv[0][0]        \n",
      "__________________________________________________________________________________________________\n",
      "conv3_block4_2_relu (Activation (None, 28, 28, 128)  0           conv3_block4_2_bn[0][0]          \n",
      "__________________________________________________________________________________________________\n",
      "conv3_block4_3_conv (Conv2D)    (None, 28, 28, 512)  66048       conv3_block4_2_relu[0][0]        \n",
      "__________________________________________________________________________________________________\n",
      "conv3_block4_3_bn (BatchNormali (None, 28, 28, 512)  2048        conv3_block4_3_conv[0][0]        \n",
      "__________________________________________________________________________________________________\n",
      "conv3_block4_add (Add)          (None, 28, 28, 512)  0           conv3_block3_out[0][0]           \n",
      "                                                                 conv3_block4_3_bn[0][0]          \n",
      "__________________________________________________________________________________________________\n",
      "conv3_block4_out (Activation)   (None, 28, 28, 512)  0           conv3_block4_add[0][0]           \n",
      "__________________________________________________________________________________________________\n",
      "conv4_block1_1_conv (Conv2D)    (None, 14, 14, 256)  131328      conv3_block4_out[0][0]           \n",
      "__________________________________________________________________________________________________\n",
      "conv4_block1_1_bn (BatchNormali (None, 14, 14, 256)  1024        conv4_block1_1_conv[0][0]        \n",
      "__________________________________________________________________________________________________\n",
      "conv4_block1_1_relu (Activation (None, 14, 14, 256)  0           conv4_block1_1_bn[0][0]          \n",
      "__________________________________________________________________________________________________\n",
      "conv4_block1_2_conv (Conv2D)    (None, 14, 14, 256)  590080      conv4_block1_1_relu[0][0]        \n",
      "__________________________________________________________________________________________________\n",
      "conv4_block1_2_bn (BatchNormali (None, 14, 14, 256)  1024        conv4_block1_2_conv[0][0]        \n",
      "__________________________________________________________________________________________________\n",
      "conv4_block1_2_relu (Activation (None, 14, 14, 256)  0           conv4_block1_2_bn[0][0]          \n",
      "__________________________________________________________________________________________________\n",
      "conv4_block1_0_conv (Conv2D)    (None, 14, 14, 1024) 525312      conv3_block4_out[0][0]           \n",
      "__________________________________________________________________________________________________\n",
      "conv4_block1_3_conv (Conv2D)    (None, 14, 14, 1024) 263168      conv4_block1_2_relu[0][0]        \n",
      "__________________________________________________________________________________________________\n",
      "conv4_block1_0_bn (BatchNormali (None, 14, 14, 1024) 4096        conv4_block1_0_conv[0][0]        \n",
      "__________________________________________________________________________________________________\n",
      "conv4_block1_3_bn (BatchNormali (None, 14, 14, 1024) 4096        conv4_block1_3_conv[0][0]        \n",
      "__________________________________________________________________________________________________\n",
      "conv4_block1_add (Add)          (None, 14, 14, 1024) 0           conv4_block1_0_bn[0][0]          \n",
      "                                                                 conv4_block1_3_bn[0][0]          \n",
      "__________________________________________________________________________________________________\n",
      "conv4_block1_out (Activation)   (None, 14, 14, 1024) 0           conv4_block1_add[0][0]           \n",
      "__________________________________________________________________________________________________\n",
      "conv4_block2_1_conv (Conv2D)    (None, 14, 14, 256)  262400      conv4_block1_out[0][0]           \n",
      "__________________________________________________________________________________________________\n",
      "conv4_block2_1_bn (BatchNormali (None, 14, 14, 256)  1024        conv4_block2_1_conv[0][0]        \n",
      "__________________________________________________________________________________________________\n",
      "conv4_block2_1_relu (Activation (None, 14, 14, 256)  0           conv4_block2_1_bn[0][0]          \n",
      "__________________________________________________________________________________________________\n",
      "conv4_block2_2_conv (Conv2D)    (None, 14, 14, 256)  590080      conv4_block2_1_relu[0][0]        \n",
      "__________________________________________________________________________________________________\n",
      "conv4_block2_2_bn (BatchNormali (None, 14, 14, 256)  1024        conv4_block2_2_conv[0][0]        \n",
      "__________________________________________________________________________________________________\n",
      "conv4_block2_2_relu (Activation (None, 14, 14, 256)  0           conv4_block2_2_bn[0][0]          \n",
      "__________________________________________________________________________________________________\n",
      "conv4_block2_3_conv (Conv2D)    (None, 14, 14, 1024) 263168      conv4_block2_2_relu[0][0]        \n",
      "__________________________________________________________________________________________________\n",
      "conv4_block2_3_bn (BatchNormali (None, 14, 14, 1024) 4096        conv4_block2_3_conv[0][0]        \n",
      "__________________________________________________________________________________________________\n",
      "conv4_block2_add (Add)          (None, 14, 14, 1024) 0           conv4_block1_out[0][0]           \n",
      "                                                                 conv4_block2_3_bn[0][0]          \n",
      "__________________________________________________________________________________________________\n",
      "conv4_block2_out (Activation)   (None, 14, 14, 1024) 0           conv4_block2_add[0][0]           \n",
      "__________________________________________________________________________________________________\n",
      "conv4_block3_1_conv (Conv2D)    (None, 14, 14, 256)  262400      conv4_block2_out[0][0]           \n",
      "__________________________________________________________________________________________________\n",
      "conv4_block3_1_bn (BatchNormali (None, 14, 14, 256)  1024        conv4_block3_1_conv[0][0]        \n",
      "__________________________________________________________________________________________________\n",
      "conv4_block3_1_relu (Activation (None, 14, 14, 256)  0           conv4_block3_1_bn[0][0]          \n",
      "__________________________________________________________________________________________________\n",
      "conv4_block3_2_conv (Conv2D)    (None, 14, 14, 256)  590080      conv4_block3_1_relu[0][0]        \n",
      "__________________________________________________________________________________________________\n",
      "conv4_block3_2_bn (BatchNormali (None, 14, 14, 256)  1024        conv4_block3_2_conv[0][0]        \n",
      "__________________________________________________________________________________________________\n",
      "conv4_block3_2_relu (Activation (None, 14, 14, 256)  0           conv4_block3_2_bn[0][0]          \n",
      "__________________________________________________________________________________________________\n",
      "conv4_block3_3_conv (Conv2D)    (None, 14, 14, 1024) 263168      conv4_block3_2_relu[0][0]        \n",
      "__________________________________________________________________________________________________\n",
      "conv4_block3_3_bn (BatchNormali (None, 14, 14, 1024) 4096        conv4_block3_3_conv[0][0]        \n",
      "__________________________________________________________________________________________________\n",
      "conv4_block3_add (Add)          (None, 14, 14, 1024) 0           conv4_block2_out[0][0]           \n",
      "                                                                 conv4_block3_3_bn[0][0]          \n",
      "__________________________________________________________________________________________________\n",
      "conv4_block3_out (Activation)   (None, 14, 14, 1024) 0           conv4_block3_add[0][0]           \n",
      "__________________________________________________________________________________________________\n",
      "conv4_block4_1_conv (Conv2D)    (None, 14, 14, 256)  262400      conv4_block3_out[0][0]           \n",
      "__________________________________________________________________________________________________\n",
      "conv4_block4_1_bn (BatchNormali (None, 14, 14, 256)  1024        conv4_block4_1_conv[0][0]        \n",
      "__________________________________________________________________________________________________\n",
      "conv4_block4_1_relu (Activation (None, 14, 14, 256)  0           conv4_block4_1_bn[0][0]          \n",
      "__________________________________________________________________________________________________\n",
      "conv4_block4_2_conv (Conv2D)    (None, 14, 14, 256)  590080      conv4_block4_1_relu[0][0]        \n",
      "__________________________________________________________________________________________________\n",
      "conv4_block4_2_bn (BatchNormali (None, 14, 14, 256)  1024        conv4_block4_2_conv[0][0]        \n",
      "__________________________________________________________________________________________________\n",
      "conv4_block4_2_relu (Activation (None, 14, 14, 256)  0           conv4_block4_2_bn[0][0]          \n",
      "__________________________________________________________________________________________________\n",
      "conv4_block4_3_conv (Conv2D)    (None, 14, 14, 1024) 263168      conv4_block4_2_relu[0][0]        \n",
      "__________________________________________________________________________________________________\n",
      "conv4_block4_3_bn (BatchNormali (None, 14, 14, 1024) 4096        conv4_block4_3_conv[0][0]        \n",
      "__________________________________________________________________________________________________\n",
      "conv4_block4_add (Add)          (None, 14, 14, 1024) 0           conv4_block3_out[0][0]           \n",
      "                                                                 conv4_block4_3_bn[0][0]          \n",
      "__________________________________________________________________________________________________\n",
      "conv4_block4_out (Activation)   (None, 14, 14, 1024) 0           conv4_block4_add[0][0]           \n",
      "__________________________________________________________________________________________________\n",
      "conv4_block5_1_conv (Conv2D)    (None, 14, 14, 256)  262400      conv4_block4_out[0][0]           \n",
      "__________________________________________________________________________________________________\n",
      "conv4_block5_1_bn (BatchNormali (None, 14, 14, 256)  1024        conv4_block5_1_conv[0][0]        \n",
      "__________________________________________________________________________________________________\n",
      "conv4_block5_1_relu (Activation (None, 14, 14, 256)  0           conv4_block5_1_bn[0][0]          \n",
      "__________________________________________________________________________________________________\n",
      "conv4_block5_2_conv (Conv2D)    (None, 14, 14, 256)  590080      conv4_block5_1_relu[0][0]        \n",
      "__________________________________________________________________________________________________\n",
      "conv4_block5_2_bn (BatchNormali (None, 14, 14, 256)  1024        conv4_block5_2_conv[0][0]        \n",
      "__________________________________________________________________________________________________\n",
      "conv4_block5_2_relu (Activation (None, 14, 14, 256)  0           conv4_block5_2_bn[0][0]          \n",
      "__________________________________________________________________________________________________\n",
      "conv4_block5_3_conv (Conv2D)    (None, 14, 14, 1024) 263168      conv4_block5_2_relu[0][0]        \n",
      "__________________________________________________________________________________________________\n",
      "conv4_block5_3_bn (BatchNormali (None, 14, 14, 1024) 4096        conv4_block5_3_conv[0][0]        \n",
      "__________________________________________________________________________________________________\n",
      "conv4_block5_add (Add)          (None, 14, 14, 1024) 0           conv4_block4_out[0][0]           \n",
      "                                                                 conv4_block5_3_bn[0][0]          \n",
      "__________________________________________________________________________________________________\n",
      "conv4_block5_out (Activation)   (None, 14, 14, 1024) 0           conv4_block5_add[0][0]           \n",
      "__________________________________________________________________________________________________\n",
      "conv4_block6_1_conv (Conv2D)    (None, 14, 14, 256)  262400      conv4_block5_out[0][0]           \n",
      "__________________________________________________________________________________________________\n",
      "conv4_block6_1_bn (BatchNormali (None, 14, 14, 256)  1024        conv4_block6_1_conv[0][0]        \n",
      "__________________________________________________________________________________________________\n",
      "conv4_block6_1_relu (Activation (None, 14, 14, 256)  0           conv4_block6_1_bn[0][0]          \n",
      "__________________________________________________________________________________________________\n",
      "conv4_block6_2_conv (Conv2D)    (None, 14, 14, 256)  590080      conv4_block6_1_relu[0][0]        \n",
      "__________________________________________________________________________________________________\n",
      "conv4_block6_2_bn (BatchNormali (None, 14, 14, 256)  1024        conv4_block6_2_conv[0][0]        \n",
      "__________________________________________________________________________________________________\n",
      "conv4_block6_2_relu (Activation (None, 14, 14, 256)  0           conv4_block6_2_bn[0][0]          \n",
      "__________________________________________________________________________________________________\n",
      "conv4_block6_3_conv (Conv2D)    (None, 14, 14, 1024) 263168      conv4_block6_2_relu[0][0]        \n",
      "__________________________________________________________________________________________________\n",
      "conv4_block6_3_bn (BatchNormali (None, 14, 14, 1024) 4096        conv4_block6_3_conv[0][0]        \n",
      "__________________________________________________________________________________________________\n",
      "conv4_block6_add (Add)          (None, 14, 14, 1024) 0           conv4_block5_out[0][0]           \n",
      "                                                                 conv4_block6_3_bn[0][0]          \n",
      "__________________________________________________________________________________________________\n",
      "conv4_block6_out (Activation)   (None, 14, 14, 1024) 0           conv4_block6_add[0][0]           \n",
      "__________________________________________________________________________________________________\n",
      "conv5_block1_1_conv (Conv2D)    (None, 7, 7, 512)    524800      conv4_block6_out[0][0]           \n",
      "__________________________________________________________________________________________________\n",
      "conv5_block1_1_bn (BatchNormali (None, 7, 7, 512)    2048        conv5_block1_1_conv[0][0]        \n",
      "__________________________________________________________________________________________________\n",
      "conv5_block1_1_relu (Activation (None, 7, 7, 512)    0           conv5_block1_1_bn[0][0]          \n",
      "__________________________________________________________________________________________________\n",
      "conv5_block1_2_conv (Conv2D)    (None, 7, 7, 512)    2359808     conv5_block1_1_relu[0][0]        \n",
      "__________________________________________________________________________________________________\n",
      "conv5_block1_2_bn (BatchNormali (None, 7, 7, 512)    2048        conv5_block1_2_conv[0][0]        \n",
      "__________________________________________________________________________________________________\n",
      "conv5_block1_2_relu (Activation (None, 7, 7, 512)    0           conv5_block1_2_bn[0][0]          \n",
      "__________________________________________________________________________________________________\n",
      "conv5_block1_0_conv (Conv2D)    (None, 7, 7, 2048)   2099200     conv4_block6_out[0][0]           \n",
      "__________________________________________________________________________________________________\n",
      "conv5_block1_3_conv (Conv2D)    (None, 7, 7, 2048)   1050624     conv5_block1_2_relu[0][0]        \n",
      "__________________________________________________________________________________________________\n",
      "conv5_block1_0_bn (BatchNormali (None, 7, 7, 2048)   8192        conv5_block1_0_conv[0][0]        \n",
      "__________________________________________________________________________________________________\n",
      "conv5_block1_3_bn (BatchNormali (None, 7, 7, 2048)   8192        conv5_block1_3_conv[0][0]        \n",
      "__________________________________________________________________________________________________\n",
      "conv5_block1_add (Add)          (None, 7, 7, 2048)   0           conv5_block1_0_bn[0][0]          \n",
      "                                                                 conv5_block1_3_bn[0][0]          \n",
      "__________________________________________________________________________________________________\n",
      "conv5_block1_out (Activation)   (None, 7, 7, 2048)   0           conv5_block1_add[0][0]           \n",
      "__________________________________________________________________________________________________\n",
      "conv5_block2_1_conv (Conv2D)    (None, 7, 7, 512)    1049088     conv5_block1_out[0][0]           \n",
      "__________________________________________________________________________________________________\n",
      "conv5_block2_1_bn (BatchNormali (None, 7, 7, 512)    2048        conv5_block2_1_conv[0][0]        \n",
      "__________________________________________________________________________________________________\n",
      "conv5_block2_1_relu (Activation (None, 7, 7, 512)    0           conv5_block2_1_bn[0][0]          \n",
      "__________________________________________________________________________________________________\n",
      "conv5_block2_2_conv (Conv2D)    (None, 7, 7, 512)    2359808     conv5_block2_1_relu[0][0]        \n",
      "__________________________________________________________________________________________________\n",
      "conv5_block2_2_bn (BatchNormali (None, 7, 7, 512)    2048        conv5_block2_2_conv[0][0]        \n",
      "__________________________________________________________________________________________________\n",
      "conv5_block2_2_relu (Activation (None, 7, 7, 512)    0           conv5_block2_2_bn[0][0]          \n",
      "__________________________________________________________________________________________________\n",
      "conv5_block2_3_conv (Conv2D)    (None, 7, 7, 2048)   1050624     conv5_block2_2_relu[0][0]        \n",
      "__________________________________________________________________________________________________\n",
      "conv5_block2_3_bn (BatchNormali (None, 7, 7, 2048)   8192        conv5_block2_3_conv[0][0]        \n",
      "__________________________________________________________________________________________________\n",
      "conv5_block2_add (Add)          (None, 7, 7, 2048)   0           conv5_block1_out[0][0]           \n",
      "                                                                 conv5_block2_3_bn[0][0]          \n",
      "__________________________________________________________________________________________________\n",
      "conv5_block2_out (Activation)   (None, 7, 7, 2048)   0           conv5_block2_add[0][0]           \n",
      "__________________________________________________________________________________________________\n",
      "conv5_block3_1_conv (Conv2D)    (None, 7, 7, 512)    1049088     conv5_block2_out[0][0]           \n",
      "__________________________________________________________________________________________________\n",
      "conv5_block3_1_bn (BatchNormali (None, 7, 7, 512)    2048        conv5_block3_1_conv[0][0]        \n",
      "__________________________________________________________________________________________________\n",
      "conv5_block3_1_relu (Activation (None, 7, 7, 512)    0           conv5_block3_1_bn[0][0]          \n",
      "__________________________________________________________________________________________________\n",
      "conv5_block3_2_conv (Conv2D)    (None, 7, 7, 512)    2359808     conv5_block3_1_relu[0][0]        \n",
      "__________________________________________________________________________________________________\n",
      "conv5_block3_2_bn (BatchNormali (None, 7, 7, 512)    2048        conv5_block3_2_conv[0][0]        \n",
      "__________________________________________________________________________________________________\n",
      "conv5_block3_2_relu (Activation (None, 7, 7, 512)    0           conv5_block3_2_bn[0][0]          \n",
      "__________________________________________________________________________________________________\n",
      "conv5_block3_3_conv (Conv2D)    (None, 7, 7, 2048)   1050624     conv5_block3_2_relu[0][0]        \n",
      "__________________________________________________________________________________________________\n",
      "conv5_block3_3_bn (BatchNormali (None, 7, 7, 2048)   8192        conv5_block3_3_conv[0][0]        \n",
      "__________________________________________________________________________________________________\n",
      "conv5_block3_add (Add)          (None, 7, 7, 2048)   0           conv5_block2_out[0][0]           \n",
      "                                                                 conv5_block3_3_bn[0][0]          \n",
      "__________________________________________________________________________________________________\n",
      "conv5_block3_out (Activation)   (None, 7, 7, 2048)   0           conv5_block3_add[0][0]           \n",
      "__________________________________________________________________________________________________\n",
      "max_pool (GlobalMaxPooling2D)   (None, 2048)         0           conv5_block3_out[0][0]           \n",
      "==================================================================================================\n",
      "Total params: 23,587,712\n",
      "Trainable params: 23,534,592\n",
      "Non-trainable params: 53,120\n",
      "__________________________________________________________________________________________________\n"
     ]
    }
   ],
   "source": [
    "# 1.3 Feature extraction using Transfer Learning (CNN algorithm)\n",
    "# Loading the ResNet50 model\n",
    "# Instantiate the base model with pre-trained weights\n",
    "model = ResNet50(\n",
    "    # Whether to include the fully-connected layer\n",
    "    # at the top of the network\n",
    "    include_top=False,\n",
    "    # Load weights pre-trained on ImageNet\n",
    "    weights='imagenet',\n",
    "    # Optional Keras tensor to use as image input for the model\n",
    "    input_tensor=None,\n",
    "    # Optional shape tuple\n",
    "    # only to be specified if include_top is False    \n",
    "    input_shape=(224, 224, 3),\n",
    "    # Optional pooling mode for feature extraction\n",
    "    # when include_top is False\n",
    "    pooling='max',\n",
    "    # Optional number of classes to classify images into\n",
    "    # only to be specified if include_top is True\n",
    "    classes=1000)\n",
    "\n",
    "# Verify that the top layer is removed\n",
    "model.summary()"
   ]
  },
  {
   "cell_type": "markdown",
   "id": "e61a5f43",
   "metadata": {},
   "source": [
    "On repartit les poids du modèle pour être exécutés sur tous les noeuds."
   ]
  },
  {
   "cell_type": "code",
   "execution_count": 10,
   "id": "a7392d1c",
   "metadata": {},
   "outputs": [],
   "source": [
    "# Broadcast model weights to be executed on all worker nodes\n",
    "bc_model_weights = sc.broadcast(model.get_weights())"
   ]
  },
  {
   "cell_type": "markdown",
   "id": "42dbf04e",
   "metadata": {},
   "source": [
    "La méthode d'extraction de features utilisée est basée sur l'exemple de la documentation de Databricks : https://docs.databricks.com/_static/notebooks/deep-learning/deep-learning-transfer-learning-keras.html"
   ]
  },
  {
   "cell_type": "code",
   "execution_count": 11,
   "id": "aeb1f3c3",
   "metadata": {},
   "outputs": [],
   "source": [
    "def load_model():\n",
    "    '''This function loads the pre-trained ResNet50 model\n",
    "    with the fully-connected layer removed\n",
    "    and broadcasted pre-trained weights.\n",
    "    '''\n",
    "    model = ResNet50(include_top=False,\n",
    "                     weights='imagenet',\n",
    "                     input_shape=(224, 224, 3),\n",
    "                     pooling='max')\n",
    "    model.set_weights(bc_model_weights.value)\n",
    "    \n",
    "    return model\n",
    "\n",
    "\n",
    "def image_preprocessing(image):\n",
    "    '''This function loads and returns a preprocessed picture.'''\n",
    "    # Loading and resizing the picture\n",
    "    image = Image.open(io.BytesIO(image)).resize([224, 224])\n",
    "    \n",
    "    # Converting the image pixels to a numpy array\n",
    "    image = img_to_array(image)\n",
    "    \n",
    "    # Reshape input data\n",
    "    # image = np.expand_dims(image, axis=0)\n",
    "\n",
    "    # Preprocessing: normalizing input data\n",
    "    image = preprocess_input(image)\n",
    "    \n",
    "    return image\n",
    "\n",
    "\n",
    "def feature_extractor(model, series_content):\n",
    "    '''This function extracts features of a Pandas series\n",
    "    of raw images using the Transfer Learning\n",
    "    and returns a Pandas series of image features.\n",
    "    '''\n",
    "    # Image preprocessing\n",
    "    input = np.stack(series_content.map(image_preprocessing))\n",
    "    \n",
    "    # Get features\n",
    "    predictions = model.predict(input)\n",
    "    \n",
    "    # Flatten the feature tensors to vectors\n",
    "    # for easier storage in Spark dataframe\n",
    "    features = [p.flatten() for p in predictions]\n",
    "    \n",
    "    # Creating a Pandas series of image features\n",
    "    features_series = pd.Series(features)\n",
    "    return features_series\n",
    "\n",
    "\n",
    "@pandas_udf('array<float>', PandasUDFType.SCALAR_ITER)\n",
    "def apply_udf_featurizer(content):\n",
    "    '''This function is a Scalar Iterator pandas UDF wrapping\n",
    "    the feature_extractor. The decorator specifies that\n",
    "    this returns a Spark DataFrame column of type ArrayType(FloatType).\n",
    "    '''\n",
    "    # Loading the model once\n",
    "    model = load_model()\n",
    "    \n",
    "    # Applying the featurization function\n",
    "    for series_content in content:\n",
    "        yield feature_extractor(model, series_content)"
   ]
  },
  {
   "cell_type": "markdown",
   "id": "6ce7e09a",
   "metadata": {},
   "source": [
    "Nous appliquons la fonction permettant d'extraire les features.\n",
    "\n",
    "Le paramètre \"numPartitions\" de la méthode repartition() permet de choisir le nombre de partitions des données.\n",
    "Avec deux partitions, les processeurs (2 vCPU) sont correctement utilisés."
   ]
  },
  {
   "cell_type": "code",
   "execution_count": 12,
   "id": "92d5cc1a",
   "metadata": {},
   "outputs": [
    {
     "name": "stdout",
     "output_type": "stream",
     "text": [
      "root\n",
      " |-- path: string (nullable = true)\n",
      " |-- category: string (nullable = true)\n",
      " |-- content: binary (nullable = true)\n",
      " |-- features: array (nullable = true)\n",
      " |    |-- element: float (containsNull = true)\n",
      "\n"
     ]
    },
    {
     "name": "stderr",
     "output_type": "stream",
     "text": [
      "                                                                                \r"
     ]
    },
    {
     "name": "stdout",
     "output_type": "stream",
     "text": [
      "+--------------------+----------+--------------------+--------------------+\n",
      "|                path|  category|             content|            features|\n",
      "+--------------------+----------+--------------------+--------------------+\n",
      "|file:/home/ubuntu...|cucumber_3|[FF D8 FF E0 00 1...|[13.015601, 0.412...|\n",
      "|file:/home/ubuntu...|cucumber_3|[FF D8 FF E0 00 1...|[11.227732, 2.544...|\n",
      "|file:/home/ubuntu...|cucumber_3|[FF D8 FF E0 00 1...|[11.6619835, 0.0,...|\n",
      "|file:/home/ubuntu...|cucumber_3|[FF D8 FF E0 00 1...|[8.882978, 0.2665...|\n",
      "|file:/home/ubuntu...|cucumber_3|[FF D8 FF E0 00 1...|[9.96269, 0.0, 4....|\n",
      "|file:/home/ubuntu...|cucumber_3|[FF D8 FF E0 00 1...|[10.606714, 2.678...|\n",
      "|file:/home/ubuntu...|cucumber_3|[FF D8 FF E0 00 1...|[12.147586, 3.187...|\n",
      "|file:/home/ubuntu...|cucumber_3|[FF D8 FF E0 00 1...|[9.426011, 0.0, 3...|\n",
      "|file:/home/ubuntu...|cucumber_3|[FF D8 FF E0 00 1...|[11.3854265, 1.58...|\n",
      "|file:/home/ubuntu...|cucumber_3|[FF D8 FF E0 00 1...|[12.928652, 0.0, ...|\n",
      "+--------------------+----------+--------------------+--------------------+\n",
      "only showing top 10 rows\n",
      "\n"
     ]
    }
   ],
   "source": [
    "# Applying distributed featurization to the dataframe of images\n",
    "numPartitions = 2\n",
    "features_df = images_df.repartition(numPartitions).select(\n",
    "    col('path'),\n",
    "    col('category'),\n",
    "    col('content'),\n",
    "    apply_udf_featurizer('content').alias('features'))\n",
    "features_df.printSchema()\n",
    "features_df.show(10)"
   ]
  },
  {
   "cell_type": "markdown",
   "id": "600f33f3",
   "metadata": {},
   "source": [
    "# 2. Réduction de dimension"
   ]
  },
  {
   "cell_type": "markdown",
   "id": "9c5eaf81",
   "metadata": {},
   "source": [
    "## 2.1 Prétraitement des données"
   ]
  },
  {
   "cell_type": "markdown",
   "id": "d2db7dc4",
   "metadata": {},
   "source": [
    "### 2.1.1 Vectorisation"
   ]
  },
  {
   "cell_type": "markdown",
   "id": "86e9d8ff",
   "metadata": {},
   "source": [
    "Nous commençons par transformer les variables en vecteurs denses."
   ]
  },
  {
   "cell_type": "code",
   "execution_count": 13,
   "id": "f6600273",
   "metadata": {
    "scrolled": false
   },
   "outputs": [
    {
     "name": "stdout",
     "output_type": "stream",
     "text": [
      "root\n",
      " |-- path: string (nullable = true)\n",
      " |-- category: string (nullable = true)\n",
      " |-- content: binary (nullable = true)\n",
      " |-- features: array (nullable = true)\n",
      " |    |-- element: float (containsNull = true)\n",
      " |-- vectorized_features: vector (nullable = true)\n",
      "\n"
     ]
    },
    {
     "name": "stderr",
     "output_type": "stream",
     "text": [
      "                                                                                \r"
     ]
    },
    {
     "name": "stdout",
     "output_type": "stream",
     "text": [
      "+--------------------+----------+--------------------+--------------------+--------------------+\n",
      "|                path|  category|             content|            features| vectorized_features|\n",
      "+--------------------+----------+--------------------+--------------------+--------------------+\n",
      "|file:/home/ubuntu...|cucumber_3|[FF D8 FF E0 00 1...|[13.015601, 0.412...|[13.0156011581420...|\n",
      "|file:/home/ubuntu...|cucumber_3|[FF D8 FF E0 00 1...|[11.227732, 2.544...|[11.2277317047119...|\n",
      "|file:/home/ubuntu...|cucumber_3|[FF D8 FF E0 00 1...|[11.6619835, 0.0,...|[11.6619834899902...|\n",
      "|file:/home/ubuntu...|cucumber_3|[FF D8 FF E0 00 1...|[8.882978, 0.2665...|[8.88297843933105...|\n",
      "|file:/home/ubuntu...|cucumber_3|[FF D8 FF E0 00 1...|[9.96269, 0.0, 4....|[9.96269035339355...|\n",
      "|file:/home/ubuntu...|cucumber_3|[FF D8 FF E0 00 1...|[10.606714, 2.678...|[10.6067142486572...|\n",
      "|file:/home/ubuntu...|cucumber_3|[FF D8 FF E0 00 1...|[12.147586, 3.187...|[12.1475858688354...|\n",
      "|file:/home/ubuntu...|cucumber_3|[FF D8 FF E0 00 1...|[9.426011, 0.0, 3...|[9.42601108551025...|\n",
      "|file:/home/ubuntu...|cucumber_3|[FF D8 FF E0 00 1...|[11.3854265, 1.58...|[11.3854265213012...|\n",
      "|file:/home/ubuntu...|cucumber_3|[FF D8 FF E0 00 1...|[12.928652, 0.0, ...|[12.9286518096923...|\n",
      "+--------------------+----------+--------------------+--------------------+--------------------+\n",
      "only showing top 10 rows\n",
      "\n"
     ]
    }
   ],
   "source": [
    "# 2. Dimension reduction\n",
    "# 2.1 Data preprocessing\n",
    "# 2.1.1 Vectorization\n",
    "# Creating the dense vectors\n",
    "udf_vectorizer = udf(lambda x: Vectors.dense(x), VectorUDT())\n",
    "vec_features_df = features_df.select(\n",
    "    col('path'),\n",
    "    col('category'),\n",
    "    col('content'),\n",
    "    col('features'),\n",
    "    udf_vectorizer('features').alias('vectorized_features'))\n",
    "vec_features_df.printSchema()\n",
    "vec_features_df.show(10)"
   ]
  },
  {
   "cell_type": "markdown",
   "id": "80812b80",
   "metadata": {},
   "source": [
    "### 2.1.2 Standardisation"
   ]
  },
  {
   "cell_type": "markdown",
   "id": "9a9bf7a8",
   "metadata": {},
   "source": [
    "Nous standardisons ensuite les données."
   ]
  },
  {
   "cell_type": "code",
   "execution_count": 14,
   "id": "2ec749ae",
   "metadata": {},
   "outputs": [
    {
     "name": "stderr",
     "output_type": "stream",
     "text": [
      "                                                                                \r"
     ]
    },
    {
     "name": "stdout",
     "output_type": "stream",
     "text": [
      "root\n",
      " |-- path: string (nullable = true)\n",
      " |-- category: string (nullable = true)\n",
      " |-- content: binary (nullable = true)\n",
      " |-- features: array (nullable = true)\n",
      " |    |-- element: float (containsNull = true)\n",
      " |-- scaled_features: vector (nullable = true)\n",
      "\n"
     ]
    },
    {
     "name": "stderr",
     "output_type": "stream",
     "text": [
      "                                                                                \r"
     ]
    },
    {
     "name": "stdout",
     "output_type": "stream",
     "text": [
      "+--------------------+----------+--------------------+--------------------+--------------------+\n",
      "|                path|  category|             content|            features|     scaled_features|\n",
      "+--------------------+----------+--------------------+--------------------+--------------------+\n",
      "|file:/home/ubuntu...|cucumber_3|[FF D8 FF E0 00 1...|[13.015601, 0.412...|[1.72544930184741...|\n",
      "|file:/home/ubuntu...|cucumber_3|[FF D8 FF E0 00 1...|[11.227732, 2.544...|[1.22651712176305...|\n",
      "|file:/home/ubuntu...|cucumber_3|[FF D8 FF E0 00 1...|[11.6619835, 0.0,...|[1.34770169120617...|\n",
      "|file:/home/ubuntu...|cucumber_3|[FF D8 FF E0 00 1...|[8.882978, 0.2665...|[0.57217803888880...|\n",
      "|file:/home/ubuntu...|cucumber_3|[FF D8 FF E0 00 1...|[9.96269, 0.0, 4....|[0.87348808035335...|\n",
      "|file:/home/ubuntu...|cucumber_3|[FF D8 FF E0 00 1...|[10.606714, 2.678...|[1.05321274955324...|\n",
      "|file:/home/ubuntu...|cucumber_3|[FF D8 FF E0 00 1...|[12.147586, 3.187...|[1.48321642527501...|\n",
      "|file:/home/ubuntu...|cucumber_3|[FF D8 FF E0 00 1...|[9.426011, 0.0, 3...|[0.72371956307299...|\n",
      "|file:/home/ubuntu...|cucumber_3|[FF D8 FF E0 00 1...|[11.3854265, 1.58...|[1.27052426024734...|\n",
      "|file:/home/ubuntu...|cucumber_3|[FF D8 FF E0 00 1...|[12.928652, 0.0, ...|[1.70118476290376...|\n",
      "+--------------------+----------+--------------------+--------------------+--------------------+\n",
      "only showing top 10 rows\n",
      "\n"
     ]
    }
   ],
   "source": [
    "# 2.1.2 Standardization\n",
    "# Centering and scaling data\n",
    "scaler = StandardScaler(withMean=True,\n",
    "                        withStd=True,\n",
    "                        inputCol='vectorized_features',\n",
    "                        outputCol='scaled_features')\n",
    "scaler_model = scaler.fit(vec_features_df)\n",
    "scaled_features_df = scaler_model.transform(\n",
    "    vec_features_df).select(['path',\n",
    "                             'category',\n",
    "                             'content',\n",
    "                             'features',\n",
    "                             'scaled_features'])\n",
    "scaled_features_df.printSchema()\n",
    "scaled_features_df.show(10)"
   ]
  },
  {
   "cell_type": "markdown",
   "id": "a32b12f4",
   "metadata": {},
   "source": [
    "## 2.2 Analyse en composantes principales ou ACP"
   ]
  },
  {
   "cell_type": "markdown",
   "id": "5b0ed1d0",
   "metadata": {},
   "source": [
    "Nous effectuons l'ACP. C'est une méthode de réduction de dimension linéaire qui favorise la structure globale des données et qui maximise la variance en minimisant l’erreur en distance euclidienne entre les données originales et la projection. L'ACP s'applique à des données denses et permet de créer des variables décorrélées entre elles, et de diminuer leurs dimensions, tout en gardant un pourcentage de variance expliquée élevé."
   ]
  },
  {
   "cell_type": "code",
   "execution_count": 15,
   "id": "12bb3352",
   "metadata": {
    "scrolled": false
   },
   "outputs": [
    {
     "name": "stderr",
     "output_type": "stream",
     "text": [
      "                                                                                \r"
     ]
    },
    {
     "name": "stdout",
     "output_type": "stream",
     "text": [
      "root\n",
      " |-- path: string (nullable = true)\n",
      " |-- category: string (nullable = true)\n",
      " |-- content: binary (nullable = true)\n",
      " |-- features: array (nullable = true)\n",
      " |    |-- element: float (containsNull = true)\n",
      " |-- reduced_features: vector (nullable = true)\n",
      "\n"
     ]
    },
    {
     "name": "stderr",
     "output_type": "stream",
     "text": [
      "                                                                                \r"
     ]
    },
    {
     "name": "stdout",
     "output_type": "stream",
     "text": [
      "+--------------------+----------+--------------------+--------------------+--------------------+\n",
      "|                path|  category|             content|            features|    reduced_features|\n",
      "+--------------------+----------+--------------------+--------------------+--------------------+\n",
      "|file:/home/ubuntu...|cucumber_3|[FF D8 FF E0 00 1...|[13.015601, 0.412...|[22.0563302472823...|\n",
      "|file:/home/ubuntu...|cucumber_3|[FF D8 FF E0 00 1...|[11.227732, 2.544...|[29.5416442253633...|\n",
      "|file:/home/ubuntu...|cucumber_3|[FF D8 FF E0 00 1...|[11.6619835, 0.0,...|[22.6577782287306...|\n",
      "|file:/home/ubuntu...|cucumber_3|[FF D8 FF E0 00 1...|[8.882978, 0.2665...|[24.5181085607209...|\n",
      "|file:/home/ubuntu...|cucumber_3|[FF D8 FF E0 00 1...|[9.96269, 0.0, 4....|[25.4586141102722...|\n",
      "|file:/home/ubuntu...|cucumber_3|[FF D8 FF E0 00 1...|[10.606714, 2.678...|[30.5661088496701...|\n",
      "|file:/home/ubuntu...|cucumber_3|[FF D8 FF E0 00 1...|[12.147586, 3.187...|[28.4814759125390...|\n",
      "|file:/home/ubuntu...|cucumber_3|[FF D8 FF E0 00 1...|[9.426011, 0.0, 3...|[26.4833055403674...|\n",
      "|file:/home/ubuntu...|cucumber_3|[FF D8 FF E0 00 1...|[11.3854265, 1.58...|[26.6687687285814...|\n",
      "|file:/home/ubuntu...|cucumber_3|[FF D8 FF E0 00 1...|[12.928652, 0.0, ...|[19.3013461845785...|\n",
      "+--------------------+----------+--------------------+--------------------+--------------------+\n",
      "only showing top 10 rows\n",
      "\n"
     ]
    }
   ],
   "source": [
    "# 2.2 Principal component analysis (PCA)\n",
    "# Performing PCA\n",
    "n_comp = 160\n",
    "pca = PCA(k=n_comp,\n",
    "          inputCol='scaled_features',\n",
    "          outputCol='reduced_features')\n",
    "pca_model = pca.fit(scaled_features_df)\n",
    "reduced_features_df = pca_model.transform(\n",
    "    scaled_features_df).select(['path',\n",
    "                                'category',\n",
    "                                'content',\n",
    "                                'features',\n",
    "                                'reduced_features'])\n",
    "reduced_features_df.printSchema()\n",
    "reduced_features_df.show(10)"
   ]
  },
  {
   "cell_type": "markdown",
   "id": "76166095",
   "metadata": {},
   "source": [
    "Nous affichons le pourcentage de variance expliquée par chaque composante."
   ]
  },
  {
   "cell_type": "code",
   "execution_count": 16,
   "id": "31b4a056",
   "metadata": {},
   "outputs": [
    {
     "data": {
      "text/plain": [
       "DenseVector([0.1131, 0.0619, 0.0496, 0.0411, 0.0358, 0.0279, 0.0243, 0.0211, 0.0195, 0.0179, 0.0154, 0.0136, 0.0134, 0.0122, 0.0117, 0.0109, 0.0102, 0.0098, 0.0085, 0.0083, 0.0076, 0.007, 0.0067, 0.0065, 0.0059, 0.0056, 0.0053, 0.0052, 0.0048, 0.0047, 0.0046, 0.0043, 0.0042, 0.0041, 0.004, 0.0039, 0.0037, 0.0035, 0.0034, 0.0033, 0.0032, 0.0031, 0.0031, 0.003, 0.0029, 0.0028, 0.0028, 0.0027, 0.0027, 0.0026, 0.0025, 0.0025, 0.0024, 0.0024, 0.0023, 0.0023, 0.0022, 0.0022, 0.0021, 0.0021, 0.0021, 0.0021, 0.002, 0.002, 0.002, 0.0019, 0.0019, 0.0019, 0.0018, 0.0018, 0.0017, 0.0017, 0.0017, 0.0017, 0.0017, 0.0016, 0.0016, 0.0016, 0.0016, 0.0016, 0.0016, 0.0015, 0.0015, 0.0015, 0.0015, 0.0015, 0.0015, 0.0014, 0.0014, 0.0014, 0.0014, 0.0014, 0.0014, 0.0014, 0.0013, 0.0013, 0.0013, 0.0013, 0.0013, 0.0013, 0.0013, 0.0012, 0.0012, 0.0012, 0.0012, 0.0012, 0.0012, 0.0012, 0.0011, 0.0011, 0.0011, 0.0011, 0.0011, 0.0011, 0.0011, 0.0011, 0.0011, 0.001, 0.001, 0.001, 0.001, 0.001, 0.001, 0.001, 0.001, 0.001, 0.001, 0.001, 0.001, 0.0009, 0.0009, 0.0009, 0.0009, 0.0009, 0.0009, 0.0009, 0.0009, 0.0009, 0.0009, 0.0009, 0.0009, 0.0009, 0.0009, 0.0009, 0.0008, 0.0008, 0.0008, 0.0008, 0.0008, 0.0008, 0.0008, 0.0008, 0.0008, 0.0008, 0.0008, 0.0008, 0.0008, 0.0008, 0.0008, 0.0008])"
      ]
     },
     "execution_count": 16,
     "metadata": {},
     "output_type": "execute_result"
    }
   ],
   "source": [
    "# Percentage of variance explained by each component\n",
    "pca_model.explainedVariance"
   ]
  },
  {
   "cell_type": "markdown",
   "id": "dccf1b4a",
   "metadata": {},
   "source": [
    "Nous allons visualiser l'éboulis des valeurs propres."
   ]
  },
  {
   "cell_type": "code",
   "execution_count": 17,
   "id": "a418666a",
   "metadata": {
    "scrolled": false
   },
   "outputs": [
    {
     "data": {
      "image/png": "[encoded data removed]",
      "text/plain": [
       "<Figure size 576x396 with 1 Axes>"
      ]
     },
     "metadata": {},
     "output_type": "display_data"
    }
   ],
   "source": [
    "# Displaying the scree plot\n",
    "eigen_val = pca_model.explainedVariance.cumsum()\n",
    "\n",
    "# Setup the figure\n",
    "sns.lineplot(x=[i for i in range(n_comp + 1)], \n",
    "             y=np.insert(eigen_val, 0, 0) * 100)\n",
    "plt.title('PCA - Scree of eigen values')\n",
    "plt.xlabel('Principal component')\n",
    "plt.ylabel('Variance explained (%)')\n",
    "plt.ylim(0, 100)\n",
    "plt.xlim(left=0)\n",
    "plt.axhline(y=80, color='red', linestyle='--')\n",
    "plt.text(1, 80, '80%', c='red')\n",
    "plt.show()"
   ]
  },
  {
   "cell_type": "markdown",
   "id": "d3c6409e",
   "metadata": {},
   "source": [
    "On sélectionne 160 composantes principales, ce qui correspond à environ 80% de la variance totale expliquée. Lorsque le volume des données augmente, il faudra adapter le nombre de composantes principales."
   ]
  },
  {
   "cell_type": "markdown",
   "id": "2a27d8c5",
   "metadata": {},
   "source": [
    "## 2.3 Export et sauvegarde du résultat de la réduction de dimension"
   ]
  },
  {
   "cell_type": "markdown",
   "id": "542123f8",
   "metadata": {},
   "source": [
    "On commence par créer les labels à partir des catégories des fruits."
   ]
  },
  {
   "cell_type": "code",
   "execution_count": 18,
   "id": "c9cb31d5",
   "metadata": {},
   "outputs": [
    {
     "name": "stderr",
     "output_type": "stream",
     "text": [
      "[Stage 29:>                                                         (0 + 1) / 1]\r"
     ]
    },
    {
     "name": "stdout",
     "output_type": "stream",
     "text": [
      "+--------------------+----------+-----+--------------------+--------------------+\n",
      "|                path|  category|label|            features|    reduced_features|\n",
      "+--------------------+----------+-----+--------------------+--------------------+\n",
      "|file:/home/ubuntu...|cucumber_3| 16.0|[13.015601, 0.412...|[22.0563302472823...|\n",
      "|file:/home/ubuntu...|cucumber_3| 16.0|[11.227732, 2.544...|[29.5416442253633...|\n",
      "|file:/home/ubuntu...|cucumber_3| 16.0|[11.6619835, 0.0,...|[22.6577782287306...|\n",
      "|file:/home/ubuntu...|cucumber_3| 16.0|[8.882978, 0.2665...|[24.5181085607209...|\n",
      "|file:/home/ubuntu...|cucumber_3| 16.0|[9.96269, 0.0, 4....|[25.4586141102722...|\n",
      "|file:/home/ubuntu...|cucumber_3| 16.0|[10.606714, 2.678...|[30.5661088496701...|\n",
      "|file:/home/ubuntu...|cucumber_3| 16.0|[12.147586, 3.187...|[28.4814759125390...|\n",
      "|file:/home/ubuntu...|cucumber_3| 16.0|[9.426011, 0.0, 3...|[26.4833055403674...|\n",
      "|file:/home/ubuntu...|cucumber_3| 16.0|[11.3854265, 1.58...|[26.6687687285814...|\n",
      "|file:/home/ubuntu...|cucumber_3| 16.0|[12.928652, 0.0, ...|[19.3013461845785...|\n",
      "+--------------------+----------+-----+--------------------+--------------------+\n",
      "only showing top 10 rows\n",
      "\n"
     ]
    },
    {
     "name": "stderr",
     "output_type": "stream",
     "text": [
      "\r",
      "                                                                                \r"
     ]
    }
   ],
   "source": [
    "# 2.3 Export and save the result of the dimension reduction\n",
    "# Creating the labels\n",
    "indexer = StringIndexer(inputCol='category', outputCol='label')\n",
    "indexer_model = indexer.fit(reduced_features_df)\n",
    "preprocessed_df = indexer_model.transform(\n",
    "    reduced_features_df).select(['path',\n",
    "                                 'category',\n",
    "                                 'label',\n",
    "                                 'features',\n",
    "                                 'reduced_features'])\n",
    "preprocessed_df.show(10)"
   ]
  },
  {
   "cell_type": "markdown",
   "id": "b7a41fe3",
   "metadata": {},
   "source": [
    "On convertit ensuite le Spark dataframe en Pandas dataframe."
   ]
  },
  {
   "cell_type": "code",
   "execution_count": 19,
   "id": "45a71002",
   "metadata": {},
   "outputs": [
    {
     "name": "stderr",
     "output_type": "stream",
     "text": [
      "                                                                                \r"
     ]
    },
    {
     "data": {
      "text/html": [
       "<div>\n",
       "<style scoped>\n",
       "    .dataframe tbody tr th:only-of-type {\n",
       "        vertical-align: middle;\n",
       "    }\n",
       "\n",
       "    .dataframe tbody tr th {\n",
       "        vertical-align: top;\n",
       "    }\n",
       "\n",
       "    .dataframe thead th {\n",
       "        text-align: right;\n",
       "    }\n",
       "</style>\n",
       "<table border=\"1\" class=\"dataframe\">\n",
       "  <thead>\n",
       "    <tr style=\"text-align: right;\">\n",
       "      <th></th>\n",
       "      <th>path</th>\n",
       "      <th>category</th>\n",
       "      <th>label</th>\n",
       "      <th>features</th>\n",
       "      <th>reduced_features</th>\n",
       "    </tr>\n",
       "  </thead>\n",
       "  <tbody>\n",
       "    <tr>\n",
       "      <th>0</th>\n",
       "      <td>file:/home/ubuntu/code/fruits-360-original-siz...</td>\n",
       "      <td>cucumber_3</td>\n",
       "      <td>16.0</td>\n",
       "      <td>[13.01560115814209, 0.41211116313934326, 5.602...</td>\n",
       "      <td>[22.05633024728239, -15.719720020497427, -5.93...</td>\n",
       "    </tr>\n",
       "    <tr>\n",
       "      <th>1</th>\n",
       "      <td>file:/home/ubuntu/code/fruits-360-original-siz...</td>\n",
       "      <td>cucumber_3</td>\n",
       "      <td>16.0</td>\n",
       "      <td>[11.227731704711914, 2.5448858737945557, 3.976...</td>\n",
       "      <td>[29.541644225363346, -15.400400913634435, -5.0...</td>\n",
       "    </tr>\n",
       "    <tr>\n",
       "      <th>2</th>\n",
       "      <td>file:/home/ubuntu/code/fruits-360-original-siz...</td>\n",
       "      <td>cucumber_3</td>\n",
       "      <td>16.0</td>\n",
       "      <td>[11.661983489990234, 0.0, 4.2941508293151855, ...</td>\n",
       "      <td>[22.657778228730677, -14.577185472140187, -6.5...</td>\n",
       "    </tr>\n",
       "    <tr>\n",
       "      <th>3</th>\n",
       "      <td>file:/home/ubuntu/code/fruits-360-original-siz...</td>\n",
       "      <td>cucumber_3</td>\n",
       "      <td>16.0</td>\n",
       "      <td>[8.882978439331055, 0.26657044887542725, 3.846...</td>\n",
       "      <td>[24.518108560720957, -13.479907185890998, -6.7...</td>\n",
       "    </tr>\n",
       "    <tr>\n",
       "      <th>4</th>\n",
       "      <td>file:/home/ubuntu/code/fruits-360-original-siz...</td>\n",
       "      <td>cucumber_3</td>\n",
       "      <td>16.0</td>\n",
       "      <td>[9.962690353393555, 0.0, 4.3142571449279785, 0...</td>\n",
       "      <td>[25.458614110272258, -14.112061471782352, -5.5...</td>\n",
       "    </tr>\n",
       "    <tr>\n",
       "      <th>...</th>\n",
       "      <td>...</td>\n",
       "      <td>...</td>\n",
       "      <td>...</td>\n",
       "      <td>...</td>\n",
       "      <td>...</td>\n",
       "    </tr>\n",
       "    <tr>\n",
       "      <th>6226</th>\n",
       "      <td>file:/home/ubuntu/code/fruits-360-original-siz...</td>\n",
       "      <td>apple_braeburn_1</td>\n",
       "      <td>2.0</td>\n",
       "      <td>[7.170302867889404, 9.89063549041748, 3.272537...</td>\n",
       "      <td>[-14.327274754175418, -15.760397921915668, 1.0...</td>\n",
       "    </tr>\n",
       "    <tr>\n",
       "      <th>6227</th>\n",
       "      <td>file:/home/ubuntu/code/fruits-360-original-siz...</td>\n",
       "      <td>apple_braeburn_1</td>\n",
       "      <td>2.0</td>\n",
       "      <td>[8.492012023925781, 7.83235502243042, 3.993443...</td>\n",
       "      <td>[-15.643271121386684, -13.454551203065453, 0.7...</td>\n",
       "    </tr>\n",
       "    <tr>\n",
       "      <th>6228</th>\n",
       "      <td>file:/home/ubuntu/code/fruits-360-original-siz...</td>\n",
       "      <td>apple_braeburn_1</td>\n",
       "      <td>2.0</td>\n",
       "      <td>[8.959314346313477, 8.400957107543945, 4.88875...</td>\n",
       "      <td>[-13.58671901679626, -13.959422461654626, -0.2...</td>\n",
       "    </tr>\n",
       "    <tr>\n",
       "      <th>6229</th>\n",
       "      <td>file:/home/ubuntu/code/fruits-360-original-siz...</td>\n",
       "      <td>apple_braeburn_1</td>\n",
       "      <td>2.0</td>\n",
       "      <td>[7.764952182769775, 10.522821426391602, 4.6634...</td>\n",
       "      <td>[-15.965334679626665, -14.993592026989704, -0....</td>\n",
       "    </tr>\n",
       "    <tr>\n",
       "      <th>6230</th>\n",
       "      <td>file:/home/ubuntu/code/fruits-360-original-siz...</td>\n",
       "      <td>apple_braeburn_1</td>\n",
       "      <td>2.0</td>\n",
       "      <td>[8.638606071472168, 6.421403884887695, 2.98035...</td>\n",
       "      <td>[-15.28155569969403, -15.558578270120062, 0.62...</td>\n",
       "    </tr>\n",
       "  </tbody>\n",
       "</table>\n",
       "<p>6231 rows × 5 columns</p>\n",
       "</div>"
      ],
      "text/plain": [
       "                                                   path          category  \\\n",
       "0     file:/home/ubuntu/code/fruits-360-original-siz...        cucumber_3   \n",
       "1     file:/home/ubuntu/code/fruits-360-original-siz...        cucumber_3   \n",
       "2     file:/home/ubuntu/code/fruits-360-original-siz...        cucumber_3   \n",
       "3     file:/home/ubuntu/code/fruits-360-original-siz...        cucumber_3   \n",
       "4     file:/home/ubuntu/code/fruits-360-original-siz...        cucumber_3   \n",
       "...                                                 ...               ...   \n",
       "6226  file:/home/ubuntu/code/fruits-360-original-siz...  apple_braeburn_1   \n",
       "6227  file:/home/ubuntu/code/fruits-360-original-siz...  apple_braeburn_1   \n",
       "6228  file:/home/ubuntu/code/fruits-360-original-siz...  apple_braeburn_1   \n",
       "6229  file:/home/ubuntu/code/fruits-360-original-siz...  apple_braeburn_1   \n",
       "6230  file:/home/ubuntu/code/fruits-360-original-siz...  apple_braeburn_1   \n",
       "\n",
       "      label                                           features  \\\n",
       "0      16.0  [13.01560115814209, 0.41211116313934326, 5.602...   \n",
       "1      16.0  [11.227731704711914, 2.5448858737945557, 3.976...   \n",
       "2      16.0  [11.661983489990234, 0.0, 4.2941508293151855, ...   \n",
       "3      16.0  [8.882978439331055, 0.26657044887542725, 3.846...   \n",
       "4      16.0  [9.962690353393555, 0.0, 4.3142571449279785, 0...   \n",
       "...     ...                                                ...   \n",
       "6226    2.0  [7.170302867889404, 9.89063549041748, 3.272537...   \n",
       "6227    2.0  [8.492012023925781, 7.83235502243042, 3.993443...   \n",
       "6228    2.0  [8.959314346313477, 8.400957107543945, 4.88875...   \n",
       "6229    2.0  [7.764952182769775, 10.522821426391602, 4.6634...   \n",
       "6230    2.0  [8.638606071472168, 6.421403884887695, 2.98035...   \n",
       "\n",
       "                                       reduced_features  \n",
       "0     [22.05633024728239, -15.719720020497427, -5.93...  \n",
       "1     [29.541644225363346, -15.400400913634435, -5.0...  \n",
       "2     [22.657778228730677, -14.577185472140187, -6.5...  \n",
       "3     [24.518108560720957, -13.479907185890998, -6.7...  \n",
       "4     [25.458614110272258, -14.112061471782352, -5.5...  \n",
       "...                                                 ...  \n",
       "6226  [-14.327274754175418, -15.760397921915668, 1.0...  \n",
       "6227  [-15.643271121386684, -13.454551203065453, 0.7...  \n",
       "6228  [-13.58671901679626, -13.959422461654626, -0.2...  \n",
       "6229  [-15.965334679626665, -14.993592026989704, -0....  \n",
       "6230  [-15.28155569969403, -15.558578270120062, 0.62...  \n",
       "\n",
       "[6231 rows x 5 columns]"
      ]
     },
     "execution_count": 19,
     "metadata": {},
     "output_type": "execute_result"
    }
   ],
   "source": [
    "# Converting the Spark dataframe to Pandas dataframe\n",
    "dataset_df = preprocessed_df.toPandas()\n",
    "dataset_df"
   ]
  },
  {
   "cell_type": "code",
   "execution_count": 20,
   "id": "2c2bfaab",
   "metadata": {},
   "outputs": [],
   "source": [
    "# Save the Pandas dataframe\n",
    "dataset_df.to_csv('P8_pretraitement.csv', index=False)"
   ]
  },
  {
   "cell_type": "markdown",
   "id": "aa613213",
   "metadata": {},
   "source": [
    "# Conclusion"
   ]
  },
  {
   "cell_type": "markdown",
   "id": "1a41beb9",
   "metadata": {},
   "source": [
    "- L’architecture Big Data présentée permet d’effectuer le passage à l’échelle pour le traitement des données massives.\n",
    "- Lors du passage à l'échelle, il faut adapter le nombre de composantes principales en fonction du volume des données et du pourcentage de variance expliquée souhaité.\n",
    "- Pour résoudre les problématiques de complexité en mémoire et en temps de calcul, il faut :\n",
    "  - Adapter les infrastructures (par exemple choisir une instance avec plus de RAM et plus de processeurs, utiliser un cluster de plusieurs serveurs ou machines, etc.).\n",
    "  - Adapter les algorithmes à la large échelle ou Large Scale Learning (utiliser les approches stochastiques, installer TensorFlow-GPU ou utiliser TensorFlow-TPU, etc.).\n",
    "- Il est possible de suivre les jobs Spark avec l’interface graphique Spark Web UI."
   ]
  },
  {
   "cell_type": "code",
   "execution_count": null,
   "id": "f14d0916",
   "metadata": {},
   "outputs": [],
   "source": []
  }
 ],
 "metadata": {
  "kernelspec": {
   "display_name": "Python 3 (ipykernel)",
   "language": "python",
   "name": "python3"
  },
  "language_info": {
   "codemirror_mode": {
    "name": "ipython",
    "version": 3
   },
   "file_extension": ".py",
   "mimetype": "text/x-python",
   "name": "python",
   "nbconvert_exporter": "python",
   "pygments_lexer": "ipython3",
   "version": "3.8.10"
  }
 },
 "nbformat": 4,
 "nbformat_minor": 5
}
