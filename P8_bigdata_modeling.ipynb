{
 "cells": [
  {
   "cell_type": "markdown",
   "id": "0e31e3b5",
   "metadata": {},
   "source": [
    "# Projet 8 : Déployez un modèle dans le cloud"
   ]
  },
  {
   "cell_type": "markdown",
   "id": "479a99ae",
   "metadata": {},
   "source": [
    "Ce notebook a pour objectif de développer dans un environnement Big Data une première chaîne de traitement des données qui comprend le preprocessing et une étape de réduction de dimension. L'architecture Big Data doit permettre le passage à l’échelle avec des données massives.\n",
    "\n",
    "Le notebook est organisé de la manière suivante :\n",
    "\n",
    "* [**1. Prétraitement**](#1.-Prétraitement)\n",
    "  * [**1.1 Connexion entre l'instance EC2 et le service S3 par le service IAM**](#1.1-Connexion-entre-l'instance-EC2-et-le-service-S3-par-le-service-IAM)\n",
    "  * [**1.2 Configuration de Spark**](#1.2-Configuration-de-Spark)\n",
    "  * [**1.3 Import des images**](#1.3-Import-des-images)\n",
    "  * [**1.4 Extraction de features par le Transfer Learning**](#1.4-Extraction-de-features-par-le-Transfer-Learning)\n",
    "* [**2. Réduction de dimension**](#2.-Réduction-de-dimension)\n",
    "  * [**2.1 Prétraitement des données**](#2.1-Prétraitement-des-données)\n",
    "    * [**2.1.1 Vectorisation**](#2.1.1-Vectorisation)\n",
    "    * [**2.1.2 Standardisation**](#2.1.2-Standardisation)\n",
    "  * [**2.2 Analyse en composantes principales (ACP)**](#2.2-Analyse-en-composantes-principales-(ACP))\n",
    "  * [**2.3 Export et sauvegarde du résultat de la réduction de dimension en format csv sur S3**](#2.3-Export-et-sauvegarde-du-résultat-de-la-réduction-de-dimension-en-format-csv-sur-S3)\n",
    "* [**Conclusion**](#Conclusion)"
   ]
  },
  {
   "cell_type": "code",
   "execution_count": 1,
   "id": "f53100ef",
   "metadata": {},
   "outputs": [
    {
     "name": "stdout",
     "output_type": "stream",
     "text": [
      "Populating the interactive namespace from numpy and matplotlib\n"
     ]
    },
    {
     "name": "stderr",
     "output_type": "stream",
     "text": [
      "2022-04-29 10:43:41.850151: W tensorflow/stream_executor/platform/default/dso_loader.cc:64] Could not load dynamic library 'libcudart.so.11.0'; dlerror: libcudart.so.11.0: cannot open shared object file: No such file or directory\n",
      "2022-04-29 10:43:41.850198: I tensorflow/stream_executor/cuda/cudart_stub.cc:29] Ignore above cudart dlerror if you do not have a GPU set up on your machine.\n"
     ]
    }
   ],
   "source": [
    "# Project 8: Deploy a model in the cloud\n",
    "# Import libraries\n",
    "import os\n",
    "import logging\n",
    "import warnings\n",
    "import pandas as pd\n",
    "%pylab inline\n",
    "import seaborn as sns\n",
    "import time\n",
    "\n",
    "# I/O library\n",
    "import io\n",
    "\n",
    "# AWS S3 library\n",
    "import boto3\n",
    "\n",
    "# Import PySpark\n",
    "import pyspark\n",
    "import findspark\n",
    "findspark.init()\n",
    "findspark.find()\n",
    "\n",
    "\n",
    "# Image processing libraries\n",
    "from PIL import Image\n",
    "\n",
    "# CNN (Convolutional Neural Network) Transfer learning libraries\n",
    "from tensorflow.keras.applications.resnet50 import ResNet50, preprocess_input\n",
    "from tensorflow.keras.preprocessing.image import img_to_array\n",
    "\n",
    "# Pyspark library\n",
    "from pyspark import SparkContext\n",
    "from pyspark.sql import SparkSession\n",
    "from pyspark.sql.functions import col, split, udf, pandas_udf, PandasUDFType\n",
    "from pyspark.ml.linalg import Vectors, VectorUDT\n",
    "from pyspark.ml.feature import StringIndexer, StandardScaler, PCA\n",
    "\n",
    "# I/O library\n",
    "from io import StringIO\n",
    "\n",
    "# Disable WARNING, INFO, and DEBUG logging everywhere\n",
    "os.environ['TF_CPP_MIN_LOG_LEVEL'] = '3'\n",
    "logging.disable(logging.WARNING)\n",
    "warnings.filterwarnings('ignore')\n",
    "\n",
    "plt.style.use('seaborn')"
   ]
  },
  {
   "cell_type": "code",
   "execution_count": 2,
   "id": "bd88eb82",
   "metadata": {},
   "outputs": [
    {
     "name": "stdout",
     "output_type": "stream",
     "text": [
      "/home/ubuntu/anaconda3/bin/python\n"
     ]
    }
   ],
   "source": [
    "print(os.environ['PYSPARK_PYTHON'])"
   ]
  },
  {
   "cell_type": "code",
   "execution_count": 3,
   "id": "922186f3",
   "metadata": {},
   "outputs": [
    {
     "data": {
      "text/plain": [
       "'3.0.3'"
      ]
     },
     "execution_count": 3,
     "metadata": {},
     "output_type": "execute_result"
    }
   ],
   "source": [
    "pyspark.__version__"
   ]
  },
  {
   "cell_type": "markdown",
   "id": "dec2028e",
   "metadata": {},
   "source": [
    "# 1. Prétraitement"
   ]
  },
  {
   "cell_type": "markdown",
   "id": "fecf485d",
   "metadata": {},
   "source": [
    "## 1.1 Connexion entre l'instance EC2 et le service S3 par le service IAM"
   ]
  },
  {
   "cell_type": "markdown",
   "id": "b496cf17",
   "metadata": {},
   "source": [
    "- Les caractéristiques de l'instance EC2 sélectionnées :\n",
    "  - Le modèle : Ubuntu Server 20.04 LTS ;\n",
    "  - Le type : t3a large ;\n",
    "  - La RAM : 8 Go ;\n",
    "  - Capacité de stockage : 30 Go.\n",
    "- Pour évaluer à l'avance les besoins, il est possible de réaliser des tests dans un environnement de développement (pour analyser les limites des systèmes) avec une distribution Linux gratuite (machine virtuelle Ubuntu pour les utilisateurs de Windows).\n",
    "- La librairie (kit SDK AWS) \"Boto3\" permet de créer, de configurer et de gérer les services AWS. L'implémentation est basée sur l'exemple de la documentation de Boto 3 : https://boto3.amazonaws.com/v1/documentation/api/latest/guide/s3-example-creating-buckets.html\n",
    "- L’architecture Big Data est composée de 3 services :\n",
    "  - Le service S3 (Simple Storage Service) sert à stocker les données.\n",
    "  - Le service EC2 (Elastic Compute Cloud) est le serveur qui permet de faire les calculs.\n",
    "  - Le service IAM (Identity and Access Management) permet de gérer les utilisateurs."
   ]
  },
  {
   "cell_type": "code",
   "execution_count": 4,
   "id": "0002fda6",
   "metadata": {},
   "outputs": [
    {
     "name": "stdout",
     "output_type": "stream",
     "text": [
      "\n",
      "Existing buckets:\n",
      "  p8-cloud-bigdata-aws\n"
     ]
    }
   ],
   "source": [
    "# 1. Preprocessing\n",
    "# 1.1 Connection between the EC2 instance and the S3 service\n",
    "# via the IAM service\n",
    "# AWS IAM user credentials\n",
    "file = '/home/ubuntu/.aws/admin_user_credentials.csv'\n",
    "credentials_df = pd.read_csv(file)\n",
    "Acces_key_ID = credentials_df['Access key ID'].iloc[0]\n",
    "Secret_access_key = credentials_df['Secret access key'].iloc[0]\n",
    "\n",
    "# Names of the Bucket and the Oject\n",
    "BUCKET_NAME = 'p8-cloud-bigdata-aws'\n",
    "OBJECT_NAME = 'fruits-360-original-size/Training/'\n",
    "\n",
    "# Creating the S3 client with IAM user credentials\n",
    "s3_client = boto3.client(\n",
    "    's3',\n",
    "    aws_access_key_id=Acces_key_ID,\n",
    "    aws_secret_access_key=Secret_access_key)\n",
    "\n",
    "# Output the bucket names\n",
    "response = s3_client.list_buckets()\n",
    "print('\\nExisting buckets:')\n",
    "for bucket in response['Buckets']:\n",
    "    print(f'  {bucket[\"Name\"]}')"
   ]
  },
  {
   "cell_type": "markdown",
   "id": "0f3acd36",
   "metadata": {},
   "source": [
    "## 1.2 Configuration de Spark"
   ]
  },
  {
   "cell_type": "markdown",
   "id": "dc1accfc",
   "metadata": {},
   "source": [
    "- Spark est un framework open source de calcul distribué (parallélisation des calculs) pour le traitement des données massives :\n",
    "  - Le module Findspark permet de localiser Spark sur le serveur EC2.\n",
    "  - Un SparkContext gère les propriétés globales de l'application Spark telles que le niveau de logging, le niveau de parallélisation par défaut, etc.\n",
    "- Hadoop est un framework logiciel dédié au stockage et au traitement de larges volumes de données :\n",
    "  - L’ordonnancement des traitements.\n",
    "  - La localisation des fichiers.\n",
    "  - La distribution de l’exécution sur les noeuds.\n",
    "- PySpark est une interface pour Apache Spark en Python qui utilise scala par défaut."
   ]
  },
  {
   "cell_type": "code",
   "execution_count": 5,
   "id": "488e7d6c",
   "metadata": {},
   "outputs": [],
   "source": [
    "os.environ['PYSPARK_SUBMIT_ARGS'] = '--packages com.amazonaws:aws-java-sdk-pom:1.10.34,org.apache.hadoop:hadoop-aws:2.7.2 pyspark-shell'"
   ]
  },
  {
   "cell_type": "code",
   "execution_count": 6,
   "id": "f7fb6402",
   "metadata": {
    "scrolled": false
   },
   "outputs": [
    {
     "name": "stderr",
     "output_type": "stream",
     "text": [
      "Ivy Default Cache set to: /home/ubuntu/.ivy2/cache\n",
      "The jars for the packages stored in: /home/ubuntu/.ivy2/jars\n",
      ":: loading settings :: url = jar:file:/home/ubuntu/spark-3.0.3-bin-hadoop2.7/jars/ivy-2.4.0.jar!/org/apache/ivy/core/settings/ivysettings.xml\n",
      "com.amazonaws#aws-java-sdk-pom added as a dependency\n",
      "org.apache.hadoop#hadoop-aws added as a dependency\n",
      ":: resolving dependencies :: org.apache.spark#spark-submit-parent-e3caa537-ffa5-4a7a-82aa-4836e0f3390d;1.0\n",
      "\tconfs: [default]\n",
      "\tfound com.amazonaws#aws-java-sdk-pom;1.10.34 in central\n",
      "\tfound org.apache.hadoop#hadoop-aws;2.7.2 in central\n",
      "\tfound org.apache.hadoop#hadoop-common;2.7.2 in central\n",
      "\tfound org.apache.hadoop#hadoop-annotations;2.7.2 in central\n",
      "\tfound com.google.guava#guava;11.0.2 in central\n",
      "\tfound com.google.code.findbugs#jsr305;3.0.0 in central\n",
      "\tfound commons-cli#commons-cli;1.2 in central\n",
      "\tfound org.apache.commons#commons-math3;3.1.1 in central\n",
      "\tfound xmlenc#xmlenc;0.52 in central\n",
      "\tfound commons-httpclient#commons-httpclient;3.1 in central\n",
      "\tfound commons-logging#commons-logging;1.1.3 in central\n",
      "\tfound commons-codec#commons-codec;1.4 in central\n",
      "\tfound commons-io#commons-io;2.4 in central\n",
      "\tfound commons-net#commons-net;3.1 in central\n",
      "\tfound commons-collections#commons-collections;3.2.2 in central\n",
      "\tfound javax.servlet#servlet-api;2.5 in central\n",
      "\tfound org.mortbay.jetty#jetty;6.1.26 in central\n",
      "\tfound org.mortbay.jetty#jetty-util;6.1.26 in central\n",
      "\tfound com.sun.jersey#jersey-core;1.9 in central\n",
      "\tfound com.sun.jersey#jersey-json;1.9 in central\n",
      "\tfound org.codehaus.jettison#jettison;1.1 in central\n",
      "\tfound com.sun.xml.bind#jaxb-impl;2.2.3-1 in central\n",
      "\tfound javax.xml.bind#jaxb-api;2.2.2 in central\n",
      "\tfound javax.xml.stream#stax-api;1.0-2 in central\n",
      "\tfound javax.activation#activation;1.1 in central\n",
      "\tfound org.codehaus.jackson#jackson-core-asl;1.9.13 in central\n",
      "\tfound org.codehaus.jackson#jackson-mapper-asl;1.9.13 in central\n",
      "\tfound org.codehaus.jackson#jackson-jaxrs;1.9.13 in central\n",
      "\tfound org.codehaus.jackson#jackson-xc;1.9.13 in central\n",
      "\tfound com.sun.jersey#jersey-server;1.9 in central\n",
      "\tfound asm#asm;3.2 in central\n",
      "\tfound log4j#log4j;1.2.17 in central\n",
      "\tfound net.java.dev.jets3t#jets3t;0.9.0 in central\n",
      "\tfound org.apache.httpcomponents#httpclient;4.2.5 in central\n",
      "\tfound org.apache.httpcomponents#httpcore;4.2.5 in central\n",
      "\tfound com.jamesmurty.utils#java-xmlbuilder;0.4 in central\n",
      "\tfound commons-lang#commons-lang;2.6 in central\n",
      "\tfound commons-configuration#commons-configuration;1.6 in central\n",
      "\tfound commons-digester#commons-digester;1.8 in central\n",
      "\tfound commons-beanutils#commons-beanutils;1.7.0 in central\n",
      "\tfound commons-beanutils#commons-beanutils-core;1.8.0 in central\n",
      "\tfound org.slf4j#slf4j-api;1.7.10 in central\n",
      "\tfound org.apache.avro#avro;1.7.4 in central\n",
      "\tfound com.thoughtworks.paranamer#paranamer;2.3 in central\n",
      "\tfound org.xerial.snappy#snappy-java;1.0.4.1 in central\n",
      "\tfound org.apache.commons#commons-compress;1.4.1 in central\n",
      "\tfound org.tukaani#xz;1.0 in central\n",
      "\tfound com.google.protobuf#protobuf-java;2.5.0 in central\n",
      "\tfound com.google.code.gson#gson;2.2.4 in central\n",
      "\tfound org.apache.hadoop#hadoop-auth;2.7.2 in central\n",
      "\tfound org.apache.directory.server#apacheds-kerberos-codec;2.0.0-M15 in central\n",
      "\tfound org.apache.directory.server#apacheds-i18n;2.0.0-M15 in central\n",
      "\tfound org.apache.directory.api#api-asn1-api;1.0.0-M20 in central\n",
      "\tfound org.apache.directory.api#api-util;1.0.0-M20 in central\n",
      "\tfound org.apache.zookeeper#zookeeper;3.4.6 in central\n",
      "\tfound org.slf4j#slf4j-log4j12;1.7.10 in central\n",
      "\tfound io.netty#netty;3.6.2.Final in central\n",
      "\tfound org.apache.curator#curator-framework;2.7.1 in central\n",
      "\tfound org.apache.curator#curator-client;2.7.1 in central\n",
      "\tfound com.jcraft#jsch;0.1.42 in central\n",
      "\tfound org.apache.curator#curator-recipes;2.7.1 in central\n",
      "\tfound org.apache.htrace#htrace-core;3.1.0-incubating in central\n",
      "\tfound javax.servlet.jsp#jsp-api;2.1 in central\n",
      "\tfound jline#jline;0.9.94 in central\n",
      "\tfound junit#junit;4.11 in central\n",
      "\tfound org.hamcrest#hamcrest-core;1.3 in central\n",
      "\tfound com.fasterxml.jackson.core#jackson-databind;2.2.3 in central\n",
      "\tfound com.fasterxml.jackson.core#jackson-annotations;2.2.3 in central\n",
      "\tfound com.fasterxml.jackson.core#jackson-core;2.2.3 in central\n",
      "\tfound com.amazonaws#aws-java-sdk;1.7.4 in central\n",
      "\tfound joda-time#joda-time;2.10.14 in central\n",
      "\t[2.10.14] joda-time#joda-time;[2.2,)\n",
      ":: resolution report :: resolve 6952ms :: artifacts dl 349ms\n",
      "\t:: modules in use:\n",
      "\tasm#asm;3.2 from central in [default]\n",
      "\tcom.amazonaws#aws-java-sdk;1.7.4 from central in [default]\n",
      "\tcom.amazonaws#aws-java-sdk-pom;1.10.34 from central in [default]\n",
      "\tcom.fasterxml.jackson.core#jackson-annotations;2.2.3 from central in [default]\n",
      "\tcom.fasterxml.jackson.core#jackson-core;2.2.3 from central in [default]\n",
      "\tcom.fasterxml.jackson.core#jackson-databind;2.2.3 from central in [default]\n",
      "\tcom.google.code.findbugs#jsr305;3.0.0 from central in [default]\n",
      "\tcom.google.code.gson#gson;2.2.4 from central in [default]\n",
      "\tcom.google.guava#guava;11.0.2 from central in [default]\n",
      "\tcom.google.protobuf#protobuf-java;2.5.0 from central in [default]\n",
      "\tcom.jamesmurty.utils#java-xmlbuilder;0.4 from central in [default]\n",
      "\tcom.jcraft#jsch;0.1.42 from central in [default]\n",
      "\tcom.sun.jersey#jersey-core;1.9 from central in [default]\n",
      "\tcom.sun.jersey#jersey-json;1.9 from central in [default]\n",
      "\tcom.sun.jersey#jersey-server;1.9 from central in [default]\n",
      "\tcom.sun.xml.bind#jaxb-impl;2.2.3-1 from central in [default]\n",
      "\tcom.thoughtworks.paranamer#paranamer;2.3 from central in [default]\n",
      "\tcommons-beanutils#commons-beanutils;1.7.0 from central in [default]\n",
      "\tcommons-beanutils#commons-beanutils-core;1.8.0 from central in [default]\n",
      "\tcommons-cli#commons-cli;1.2 from central in [default]\n",
      "\tcommons-codec#commons-codec;1.4 from central in [default]\n",
      "\tcommons-collections#commons-collections;3.2.2 from central in [default]\n",
      "\tcommons-configuration#commons-configuration;1.6 from central in [default]\n",
      "\tcommons-digester#commons-digester;1.8 from central in [default]\n",
      "\tcommons-httpclient#commons-httpclient;3.1 from central in [default]\n",
      "\tcommons-io#commons-io;2.4 from central in [default]\n",
      "\tcommons-lang#commons-lang;2.6 from central in [default]\n",
      "\tcommons-logging#commons-logging;1.1.3 from central in [default]\n",
      "\tcommons-net#commons-net;3.1 from central in [default]\n",
      "\tio.netty#netty;3.6.2.Final from central in [default]\n",
      "\tjavax.activation#activation;1.1 from central in [default]\n",
      "\tjavax.servlet#servlet-api;2.5 from central in [default]\n",
      "\tjavax.servlet.jsp#jsp-api;2.1 from central in [default]\n",
      "\tjavax.xml.bind#jaxb-api;2.2.2 from central in [default]\n",
      "\tjavax.xml.stream#stax-api;1.0-2 from central in [default]\n",
      "\tjline#jline;0.9.94 from central in [default]\n",
      "\tjoda-time#joda-time;2.10.14 from central in [default]\n",
      "\tjunit#junit;4.11 from central in [default]\n",
      "\tlog4j#log4j;1.2.17 from central in [default]\n",
      "\tnet.java.dev.jets3t#jets3t;0.9.0 from central in [default]\n",
      "\torg.apache.avro#avro;1.7.4 from central in [default]\n",
      "\torg.apache.commons#commons-compress;1.4.1 from central in [default]\n",
      "\torg.apache.commons#commons-math3;3.1.1 from central in [default]\n",
      "\torg.apache.curator#curator-client;2.7.1 from central in [default]\n",
      "\torg.apache.curator#curator-framework;2.7.1 from central in [default]\n",
      "\torg.apache.curator#curator-recipes;2.7.1 from central in [default]\n",
      "\torg.apache.directory.api#api-asn1-api;1.0.0-M20 from central in [default]\n",
      "\torg.apache.directory.api#api-util;1.0.0-M20 from central in [default]\n",
      "\torg.apache.directory.server#apacheds-i18n;2.0.0-M15 from central in [default]\n",
      "\torg.apache.directory.server#apacheds-kerberos-codec;2.0.0-M15 from central in [default]\n",
      "\torg.apache.hadoop#hadoop-annotations;2.7.2 from central in [default]\n",
      "\torg.apache.hadoop#hadoop-auth;2.7.2 from central in [default]\n",
      "\torg.apache.hadoop#hadoop-aws;2.7.2 from central in [default]\n",
      "\torg.apache.hadoop#hadoop-common;2.7.2 from central in [default]\n",
      "\torg.apache.htrace#htrace-core;3.1.0-incubating from central in [default]\n",
      "\torg.apache.httpcomponents#httpclient;4.2.5 from central in [default]\n",
      "\torg.apache.httpcomponents#httpcore;4.2.5 from central in [default]\n",
      "\torg.apache.zookeeper#zookeeper;3.4.6 from central in [default]\n",
      "\torg.codehaus.jackson#jackson-core-asl;1.9.13 from central in [default]\n",
      "\torg.codehaus.jackson#jackson-jaxrs;1.9.13 from central in [default]\n",
      "\torg.codehaus.jackson#jackson-mapper-asl;1.9.13 from central in [default]\n",
      "\torg.codehaus.jackson#jackson-xc;1.9.13 from central in [default]\n",
      "\torg.codehaus.jettison#jettison;1.1 from central in [default]\n",
      "\torg.hamcrest#hamcrest-core;1.3 from central in [default]\n",
      "\torg.mortbay.jetty#jetty;6.1.26 from central in [default]\n",
      "\torg.mortbay.jetty#jetty-util;6.1.26 from central in [default]\n",
      "\torg.slf4j#slf4j-api;1.7.10 from central in [default]\n",
      "\torg.slf4j#slf4j-log4j12;1.7.10 from central in [default]\n",
      "\torg.tukaani#xz;1.0 from central in [default]\n",
      "\torg.xerial.snappy#snappy-java;1.0.4.1 from central in [default]\n",
      "\txmlenc#xmlenc;0.52 from central in [default]\n",
      "\t---------------------------------------------------------------------\n",
      "\t|                  |            modules            ||   artifacts   |\n",
      "\t|       conf       | number| search|dwnlded|evicted|| number|dwnlded|\n",
      "\t---------------------------------------------------------------------\n",
      "\t|      default     |   71  |   1   |   0   |   0   ||   70  |   0   |\n",
      "\t---------------------------------------------------------------------\n",
      ":: retrieving :: org.apache.spark#spark-submit-parent-e3caa537-ffa5-4a7a-82aa-4836e0f3390d\n",
      "\tconfs: [default]\n",
      "\t0 artifacts copied, 70 already retrieved (0kB/51ms)\n"
     ]
    },
    {
     "name": "stderr",
     "output_type": "stream",
     "text": [
      "22/04/29 10:44:39 WARN NativeCodeLoader: Unable to load native-hadoop library for your platform... using builtin-java classes where applicable\n",
      "Using Spark's default log4j profile: org/apache/spark/log4j-defaults.properties\n",
      "Setting default log level to \"WARN\".\n",
      "To adjust logging level use sc.setLogLevel(newLevel). For SparkR, use setLogLevel(newLevel).\n"
     ]
    }
   ],
   "source": [
    "# 1.2 Configuration of Spark\n",
    "# Creating the SparkSession\n",
    "spark = (SparkSession\n",
    "         .builder.master('local[*]')\n",
    "         .appName('p8_cloud_bigdata_aws')\n",
    "         .config('spark.hadoop.fs.s3a.access.key', Acces_key_ID)\n",
    "         .config('spark.hadoop.fs.s3a.secret.key', Secret_access_key) \n",
    "         .config('spark.hadoop.fs.s3a.impl',\n",
    "                 'org.apache.hadoop.fs.s3a.S3AFileSystem') \n",
    "         .getOrCreate())"
   ]
  },
  {
   "cell_type": "code",
   "execution_count": 7,
   "id": "1578d041",
   "metadata": {},
   "outputs": [],
   "source": [
    "# Instantiate the SparkContext\n",
    "sc = spark.sparkContext\n",
    "sc.setSystemProperty('com.amazonaws.services.s3.enableV4', 'true')\n",
    "sc._jsc.hadoopConfiguration().set('fs.s3a.endpoint',\n",
    "                                  's3.eu-west-3.amazonaws.com')\n",
    "\n",
    "# Adjusting the logging level\n",
    "sc.setLogLevel('ERROR')"
   ]
  },
  {
   "cell_type": "code",
   "execution_count": 8,
   "id": "34dcdbbf",
   "metadata": {},
   "outputs": [],
   "source": [
    "# Enabling the arrow-based columnar data transfers\n",
    "# Enabling for Conversion to/from Pandas\n",
    "spark.conf.set(\"spark.sql.execution.arrow.pyspark.enabled\", \"true\")"
   ]
  },
  {
   "cell_type": "code",
   "execution_count": 9,
   "id": "2e4e8aae",
   "metadata": {},
   "outputs": [
    {
     "data": {
      "text/html": [
       "\n",
       "            <div>\n",
       "                <p><b>SparkSession - in-memory</b></p>\n",
       "                \n",
       "        <div>\n",
       "            <p><b>SparkContext</b></p>\n",
       "\n",
       "            <p><a href=\"http://ip-172-31-40-50.eu-west-3.compute.internal:4040\">Spark UI</a></p>\n",
       "\n",
       "            <dl>\n",
       "              <dt>Version</dt>\n",
       "                <dd><code>v3.0.3</code></dd>\n",
       "              <dt>Master</dt>\n",
       "                <dd><code>local[*]</code></dd>\n",
       "              <dt>AppName</dt>\n",
       "                <dd><code>p8_cloud_bigdata_aws</code></dd>\n",
       "            </dl>\n",
       "        </div>\n",
       "        \n",
       "            </div>\n",
       "        "
      ],
      "text/plain": [
       "<pyspark.sql.session.SparkSession at 0x7efbcdf3a760>"
      ]
     },
     "execution_count": 9,
     "metadata": {},
     "output_type": "execute_result"
    }
   ],
   "source": [
    "# Displaying the SparkSession information\n",
    "spark"
   ]
  },
  {
   "cell_type": "markdown",
   "id": "ef44adb1",
   "metadata": {},
   "source": [
    "## 1.3 Import des images"
   ]
  },
  {
   "cell_type": "markdown",
   "id": "e34bca89",
   "metadata": {},
   "source": [
    "Nous commençons par charger les images dans un Spark dataframe."
   ]
  },
  {
   "cell_type": "code",
   "execution_count": 10,
   "id": "eef5bc20",
   "metadata": {},
   "outputs": [
    {
     "name": "stderr",
     "output_type": "stream",
     "text": [
      "                                                                                \r"
     ]
    },
    {
     "name": "stdout",
     "output_type": "stream",
     "text": [
      "6231\n",
      "root\n",
      " |-- path: string (nullable = true)\n",
      " |-- length: long (nullable = true)\n",
      " |-- content: binary (nullable = true)\n",
      "\n"
     ]
    },
    {
     "name": "stderr",
     "output_type": "stream",
     "text": [
      "                                                                                \r"
     ]
    },
    {
     "name": "stdout",
     "output_type": "stream",
     "text": [
      "+--------------------+------+--------------------+\n",
      "|                path|length|             content|\n",
      "+--------------------+------+--------------------+\n",
      "|s3a://p8-cloud-bi...|125373|[FF D8 FF E0 00 1...|\n",
      "|s3a://p8-cloud-bi...|125088|[FF D8 FF E0 00 1...|\n",
      "|s3a://p8-cloud-bi...|124905|[FF D8 FF E0 00 1...|\n",
      "|s3a://p8-cloud-bi...|124363|[FF D8 FF E0 00 1...|\n",
      "|s3a://p8-cloud-bi...|124026|[FF D8 FF E0 00 1...|\n",
      "|s3a://p8-cloud-bi...|123109|[FF D8 FF E0 00 1...|\n",
      "|s3a://p8-cloud-bi...|123094|[FF D8 FF E0 00 1...|\n",
      "|s3a://p8-cloud-bi...|122551|[FF D8 FF E0 00 1...|\n",
      "|s3a://p8-cloud-bi...|122525|[FF D8 FF E0 00 1...|\n",
      "|s3a://p8-cloud-bi...|122317|[FF D8 FF E0 00 1...|\n",
      "+--------------------+------+--------------------+\n",
      "only showing top 10 rows\n",
      "\n",
      "\n",
      "Processing time: 65.9 seconds\n"
     ]
    }
   ],
   "source": [
    "# 1.3 Loading the pictures\n",
    "# Importing images in a Spark dataframe\n",
    "start_time = time.time()\n",
    "dataset_path = 's3a://' + BUCKET_NAME + '/' + OBJECT_NAME + '*'\n",
    "images_df = spark.read.format(\n",
    "    'binaryFile').option(\n",
    "    'pathGlobFilter', '*.jpg').option(\n",
    "    'recursiveFileLookup', 'true').load(dataset_path, inferschema=True)\n",
    "images_df = images_df.select('path', 'length', 'content')\n",
    "print(images_df.count())\n",
    "images_df.printSchema()\n",
    "images_df.show(10)\n",
    "duration = time.time() - start_time\n",
    "print(\"\\nProcessing time: {:.1f} seconds\".format(duration))"
   ]
  },
  {
   "cell_type": "markdown",
   "id": "a0130b3f",
   "metadata": {},
   "source": [
    "Nous sélectionnons ensuite les colonnes pertinentes."
   ]
  },
  {
   "cell_type": "code",
   "execution_count": 11,
   "id": "6ad25840",
   "metadata": {},
   "outputs": [
    {
     "name": "stderr",
     "output_type": "stream",
     "text": [
      "\r",
      "[Stage 3:>                                                          (0 + 1) / 1]\r",
      "\r",
      "                                                                                \r"
     ]
    },
    {
     "name": "stdout",
     "output_type": "stream",
     "text": [
      "+--------------------+--------------------+-----------+\n",
      "|                path|             content|   category|\n",
      "+--------------------+--------------------+-----------+\n",
      "|s3a://p8-cloud-bi...|[FF D8 FF E0 00 1...|apple_hit_1|\n",
      "|s3a://p8-cloud-bi...|[FF D8 FF E0 00 1...|apple_hit_1|\n",
      "|s3a://p8-cloud-bi...|[FF D8 FF E0 00 1...|apple_hit_1|\n",
      "|s3a://p8-cloud-bi...|[FF D8 FF E0 00 1...|apple_hit_1|\n",
      "|s3a://p8-cloud-bi...|[FF D8 FF E0 00 1...|apple_hit_1|\n",
      "|s3a://p8-cloud-bi...|[FF D8 FF E0 00 1...|apple_hit_1|\n",
      "|s3a://p8-cloud-bi...|[FF D8 FF E0 00 1...|apple_hit_1|\n",
      "|s3a://p8-cloud-bi...|[FF D8 FF E0 00 1...|apple_hit_1|\n",
      "|s3a://p8-cloud-bi...|[FF D8 FF E0 00 1...|apple_hit_1|\n",
      "|s3a://p8-cloud-bi...|[FF D8 FF E0 00 1...|apple_hit_1|\n",
      "+--------------------+--------------------+-----------+\n",
      "only showing top 10 rows\n",
      "\n"
     ]
    }
   ],
   "source": [
    "# Selecting the relevant columns of the dataframe\n",
    "images_df = images_df.withColumn(\n",
    "    'category', split(col('path'), '/').getItem(5))\n",
    "images_df = images_df.select('path', 'content', 'category')\n",
    "images_df.show(10)"
   ]
  },
  {
   "cell_type": "markdown",
   "id": "afba222a",
   "metadata": {},
   "source": [
    "Enfin, pour réduire la durée de traitement et donc les coûts de la construction de cette première version de l'architecture Big Data, nous sélectionnons un échantillon de 10 images.\n",
    "\n",
    "Pour limiter les coûts, il est possible d'utiliser le Cost Management d'AWS :\n",
    "- AWS budgets permet de définir un budget et de créer des alerts.\n",
    "- Cost alert permet de recevoir des notifications par email en cas de dépassements du budget ou de l'usage gratuit."
   ]
  },
  {
   "cell_type": "code",
   "execution_count": 12,
   "id": "0cdef1e3",
   "metadata": {},
   "outputs": [
    {
     "name": "stderr",
     "output_type": "stream",
     "text": [
      "                                                                                \r"
     ]
    },
    {
     "name": "stdout",
     "output_type": "stream",
     "text": [
      "10\n",
      "root\n",
      " |-- path: string (nullable = true)\n",
      " |-- content: binary (nullable = true)\n",
      " |-- category: string (nullable = true)\n",
      "\n"
     ]
    },
    {
     "name": "stderr",
     "output_type": "stream",
     "text": [
      "                                                                                \r"
     ]
    },
    {
     "name": "stdout",
     "output_type": "stream",
     "text": [
      "+--------------------+--------------------+--------------------+\n",
      "|                path|             content|            category|\n",
      "+--------------------+--------------------+--------------------+\n",
      "|s3a://p8-cloud-bi...|[FF D8 FF E0 00 1...|         apple_hit_1|\n",
      "|s3a://p8-cloud-bi...|[FF D8 FF E0 00 1...|          cucumber_3|\n",
      "|s3a://p8-cloud-bi...|[FF D8 FF E0 00 1...|         apple_red_3|\n",
      "|s3a://p8-cloud-bi...|[FF D8 FF E0 00 1...|apple_crimson_snow_1|\n",
      "|s3a://p8-cloud-bi...|[FF D8 FF E0 00 1...|apple_crimson_snow_1|\n",
      "|s3a://p8-cloud-bi...|[FF D8 FF E0 00 1...|         apple_red_1|\n",
      "|s3a://p8-cloud-bi...|[FF D8 FF E0 00 1...|    apple_braeburn_1|\n",
      "|s3a://p8-cloud-bi...|[FF D8 FF E0 00 1...|   apple_pink_lady_1|\n",
      "|s3a://p8-cloud-bi...|[FF D8 FF E0 00 1...|apple_granny_smith_1|\n",
      "|s3a://p8-cloud-bi...|[FF D8 FF E0 00 1...|      apple_golden_2|\n",
      "+--------------------+--------------------+--------------------+\n",
      "\n",
      "\n",
      "Processing time: 247.0 seconds\n"
     ]
    }
   ],
   "source": [
    "# Selecting a subset of 10 images\n",
    "start_time = time.time()\n",
    "images_sdf = images_df.sample(withReplacement=False,\n",
    "                              fraction=0.0012,\n",
    "                              seed=0)\n",
    "print(images_sdf.count())\n",
    "images_sdf.printSchema()\n",
    "images_sdf.show(10)\n",
    "duration = time.time() - start_time\n",
    "print(\"\\nProcessing time: {:.1f} seconds\".format(duration))"
   ]
  },
  {
   "cell_type": "markdown",
   "id": "2ddb9960",
   "metadata": {},
   "source": [
    "## 1.4 Extraction de features par le Transfer Learning"
   ]
  },
  {
   "cell_type": "markdown",
   "id": "9794de75",
   "metadata": {},
   "source": [
    "Nous allons ensuite effectuer l'extraction de features par le Transfer Learning. On commence par charger un algorithme de type réseaux de neurones convolutifs (CNN). Il existe plusieurs modèles pré-entraînés (ResNet50, VGG16, EfficientNetB7, etc.), il faut donc sélectionner le modèle le plus adapté à la tâche à effectuer. Le modèle sélectionné est le ResNet50 pré-entraîné sur ImageNet."
   ]
  },
  {
   "cell_type": "code",
   "execution_count": 13,
   "id": "97f7ef1f",
   "metadata": {
    "scrolled": false
   },
   "outputs": [
    {
     "name": "stderr",
     "output_type": "stream",
     "text": [
      "2022-04-29 10:50:13.822944: W tensorflow/stream_executor/platform/default/dso_loader.cc:64] Could not load dynamic library 'libcuda.so.1'; dlerror: libcuda.so.1: cannot open shared object file: No such file or directory\n",
      "2022-04-29 10:50:13.822989: W tensorflow/stream_executor/cuda/cuda_driver.cc:326] failed call to cuInit: UNKNOWN ERROR (303)\n",
      "2022-04-29 10:50:13.823055: I tensorflow/stream_executor/cuda/cuda_diagnostics.cc:156] kernel driver does not appear to be running on this host (ip-172-31-40-50): /proc/driver/nvidia/version does not exist\n",
      "2022-04-29 10:50:13.823357: I tensorflow/core/platform/cpu_feature_guard.cc:142] This TensorFlow binary is optimized with oneAPI Deep Neural Network Library (oneDNN) to use the following CPU instructions in performance-critical operations:  AVX2 FMA\n",
      "To enable them in other operations, rebuild TensorFlow with the appropriate compiler flags.\n"
     ]
    },
    {
     "name": "stdout",
     "output_type": "stream",
     "text": [
      "Model: \"resnet50\"\n",
      "__________________________________________________________________________________________________\n",
      "Layer (type)                    Output Shape         Param #     Connected to                     \n",
      "==================================================================================================\n",
      "input_1 (InputLayer)            [(None, 224, 224, 3) 0                                            \n",
      "__________________________________________________________________________________________________\n",
      "conv1_pad (ZeroPadding2D)       (None, 230, 230, 3)  0           input_1[0][0]                    \n",
      "__________________________________________________________________________________________________\n",
      "conv1_conv (Conv2D)             (None, 112, 112, 64) 9472        conv1_pad[0][0]                  \n",
      "__________________________________________________________________________________________________\n",
      "conv1_bn (BatchNormalization)   (None, 112, 112, 64) 256         conv1_conv[0][0]                 \n",
      "__________________________________________________________________________________________________\n",
      "conv1_relu (Activation)         (None, 112, 112, 64) 0           conv1_bn[0][0]                   \n",
      "__________________________________________________________________________________________________\n",
      "pool1_pad (ZeroPadding2D)       (None, 114, 114, 64) 0           conv1_relu[0][0]                 \n",
      "__________________________________________________________________________________________________\n",
      "pool1_pool (MaxPooling2D)       (None, 56, 56, 64)   0           pool1_pad[0][0]                  \n",
      "__________________________________________________________________________________________________\n",
      "conv2_block1_1_conv (Conv2D)    (None, 56, 56, 64)   4160        pool1_pool[0][0]                 \n",
      "__________________________________________________________________________________________________\n",
      "conv2_block1_1_bn (BatchNormali (None, 56, 56, 64)   256         conv2_block1_1_conv[0][0]        \n",
      "__________________________________________________________________________________________________\n",
      "conv2_block1_1_relu (Activation (None, 56, 56, 64)   0           conv2_block1_1_bn[0][0]          \n",
      "__________________________________________________________________________________________________\n",
      "conv2_block1_2_conv (Conv2D)    (None, 56, 56, 64)   36928       conv2_block1_1_relu[0][0]        \n",
      "__________________________________________________________________________________________________\n",
      "conv2_block1_2_bn (BatchNormali (None, 56, 56, 64)   256         conv2_block1_2_conv[0][0]        \n",
      "__________________________________________________________________________________________________\n",
      "conv2_block1_2_relu (Activation (None, 56, 56, 64)   0           conv2_block1_2_bn[0][0]          \n",
      "__________________________________________________________________________________________________\n",
      "conv2_block1_0_conv (Conv2D)    (None, 56, 56, 256)  16640       pool1_pool[0][0]                 \n",
      "__________________________________________________________________________________________________\n",
      "conv2_block1_3_conv (Conv2D)    (None, 56, 56, 256)  16640       conv2_block1_2_relu[0][0]        \n",
      "__________________________________________________________________________________________________\n",
      "conv2_block1_0_bn (BatchNormali (None, 56, 56, 256)  1024        conv2_block1_0_conv[0][0]        \n",
      "__________________________________________________________________________________________________\n",
      "conv2_block1_3_bn (BatchNormali (None, 56, 56, 256)  1024        conv2_block1_3_conv[0][0]        \n",
      "__________________________________________________________________________________________________\n",
      "conv2_block1_add (Add)          (None, 56, 56, 256)  0           conv2_block1_0_bn[0][0]          \n",
      "                                                                 conv2_block1_3_bn[0][0]          \n",
      "__________________________________________________________________________________________________\n",
      "conv2_block1_out (Activation)   (None, 56, 56, 256)  0           conv2_block1_add[0][0]           \n",
      "__________________________________________________________________________________________________\n",
      "conv2_block2_1_conv (Conv2D)    (None, 56, 56, 64)   16448       conv2_block1_out[0][0]           \n",
      "__________________________________________________________________________________________________\n",
      "conv2_block2_1_bn (BatchNormali (None, 56, 56, 64)   256         conv2_block2_1_conv[0][0]        \n",
      "__________________________________________________________________________________________________\n",
      "conv2_block2_1_relu (Activation (None, 56, 56, 64)   0           conv2_block2_1_bn[0][0]          \n",
      "__________________________________________________________________________________________________\n",
      "conv2_block2_2_conv (Conv2D)    (None, 56, 56, 64)   36928       conv2_block2_1_relu[0][0]        \n",
      "__________________________________________________________________________________________________\n",
      "conv2_block2_2_bn (BatchNormali (None, 56, 56, 64)   256         conv2_block2_2_conv[0][0]        \n",
      "__________________________________________________________________________________________________\n",
      "conv2_block2_2_relu (Activation (None, 56, 56, 64)   0           conv2_block2_2_bn[0][0]          \n",
      "__________________________________________________________________________________________________\n",
      "conv2_block2_3_conv (Conv2D)    (None, 56, 56, 256)  16640       conv2_block2_2_relu[0][0]        \n",
      "__________________________________________________________________________________________________\n",
      "conv2_block2_3_bn (BatchNormali (None, 56, 56, 256)  1024        conv2_block2_3_conv[0][0]        \n",
      "__________________________________________________________________________________________________\n",
      "conv2_block2_add (Add)          (None, 56, 56, 256)  0           conv2_block1_out[0][0]           \n",
      "                                                                 conv2_block2_3_bn[0][0]          \n",
      "__________________________________________________________________________________________________\n",
      "conv2_block2_out (Activation)   (None, 56, 56, 256)  0           conv2_block2_add[0][0]           \n",
      "__________________________________________________________________________________________________\n",
      "conv2_block3_1_conv (Conv2D)    (None, 56, 56, 64)   16448       conv2_block2_out[0][0]           \n",
      "__________________________________________________________________________________________________\n",
      "conv2_block3_1_bn (BatchNormali (None, 56, 56, 64)   256         conv2_block3_1_conv[0][0]        \n",
      "__________________________________________________________________________________________________\n",
      "conv2_block3_1_relu (Activation (None, 56, 56, 64)   0           conv2_block3_1_bn[0][0]          \n",
      "__________________________________________________________________________________________________\n",
      "conv2_block3_2_conv (Conv2D)    (None, 56, 56, 64)   36928       conv2_block3_1_relu[0][0]        \n",
      "__________________________________________________________________________________________________\n",
      "conv2_block3_2_bn (BatchNormali (None, 56, 56, 64)   256         conv2_block3_2_conv[0][0]        \n",
      "__________________________________________________________________________________________________\n",
      "conv2_block3_2_relu (Activation (None, 56, 56, 64)   0           conv2_block3_2_bn[0][0]          \n",
      "__________________________________________________________________________________________________\n",
      "conv2_block3_3_conv (Conv2D)    (None, 56, 56, 256)  16640       conv2_block3_2_relu[0][0]        \n",
      "__________________________________________________________________________________________________\n",
      "conv2_block3_3_bn (BatchNormali (None, 56, 56, 256)  1024        conv2_block3_3_conv[0][0]        \n",
      "__________________________________________________________________________________________________\n",
      "conv2_block3_add (Add)          (None, 56, 56, 256)  0           conv2_block2_out[0][0]           \n",
      "                                                                 conv2_block3_3_bn[0][0]          \n",
      "__________________________________________________________________________________________________\n",
      "conv2_block3_out (Activation)   (None, 56, 56, 256)  0           conv2_block3_add[0][0]           \n",
      "__________________________________________________________________________________________________\n",
      "conv3_block1_1_conv (Conv2D)    (None, 28, 28, 128)  32896       conv2_block3_out[0][0]           \n",
      "__________________________________________________________________________________________________\n",
      "conv3_block1_1_bn (BatchNormali (None, 28, 28, 128)  512         conv3_block1_1_conv[0][0]        \n",
      "__________________________________________________________________________________________________\n",
      "conv3_block1_1_relu (Activation (None, 28, 28, 128)  0           conv3_block1_1_bn[0][0]          \n",
      "__________________________________________________________________________________________________\n",
      "conv3_block1_2_conv (Conv2D)    (None, 28, 28, 128)  147584      conv3_block1_1_relu[0][0]        \n",
      "__________________________________________________________________________________________________\n",
      "conv3_block1_2_bn (BatchNormali (None, 28, 28, 128)  512         conv3_block1_2_conv[0][0]        \n",
      "__________________________________________________________________________________________________\n",
      "conv3_block1_2_relu (Activation (None, 28, 28, 128)  0           conv3_block1_2_bn[0][0]          \n",
      "__________________________________________________________________________________________________\n",
      "conv3_block1_0_conv (Conv2D)    (None, 28, 28, 512)  131584      conv2_block3_out[0][0]           \n",
      "__________________________________________________________________________________________________\n",
      "conv3_block1_3_conv (Conv2D)    (None, 28, 28, 512)  66048       conv3_block1_2_relu[0][0]        \n",
      "__________________________________________________________________________________________________\n",
      "conv3_block1_0_bn (BatchNormali (None, 28, 28, 512)  2048        conv3_block1_0_conv[0][0]        \n",
      "__________________________________________________________________________________________________\n",
      "conv3_block1_3_bn (BatchNormali (None, 28, 28, 512)  2048        conv3_block1_3_conv[0][0]        \n",
      "__________________________________________________________________________________________________\n",
      "conv3_block1_add (Add)          (None, 28, 28, 512)  0           conv3_block1_0_bn[0][0]          \n",
      "                                                                 conv3_block1_3_bn[0][0]          \n",
      "__________________________________________________________________________________________________\n",
      "conv3_block1_out (Activation)   (None, 28, 28, 512)  0           conv3_block1_add[0][0]           \n",
      "__________________________________________________________________________________________________\n",
      "conv3_block2_1_conv (Conv2D)    (None, 28, 28, 128)  65664       conv3_block1_out[0][0]           \n",
      "__________________________________________________________________________________________________\n",
      "conv3_block2_1_bn (BatchNormali (None, 28, 28, 128)  512         conv3_block2_1_conv[0][0]        \n",
      "__________________________________________________________________________________________________\n",
      "conv3_block2_1_relu (Activation (None, 28, 28, 128)  0           conv3_block2_1_bn[0][0]          \n",
      "__________________________________________________________________________________________________\n",
      "conv3_block2_2_conv (Conv2D)    (None, 28, 28, 128)  147584      conv3_block2_1_relu[0][0]        \n",
      "__________________________________________________________________________________________________\n",
      "conv3_block2_2_bn (BatchNormali (None, 28, 28, 128)  512         conv3_block2_2_conv[0][0]        \n",
      "__________________________________________________________________________________________________\n",
      "conv3_block2_2_relu (Activation (None, 28, 28, 128)  0           conv3_block2_2_bn[0][0]          \n",
      "__________________________________________________________________________________________________\n",
      "conv3_block2_3_conv (Conv2D)    (None, 28, 28, 512)  66048       conv3_block2_2_relu[0][0]        \n",
      "__________________________________________________________________________________________________\n",
      "conv3_block2_3_bn (BatchNormali (None, 28, 28, 512)  2048        conv3_block2_3_conv[0][0]        \n",
      "__________________________________________________________________________________________________\n",
      "conv3_block2_add (Add)          (None, 28, 28, 512)  0           conv3_block1_out[0][0]           \n",
      "                                                                 conv3_block2_3_bn[0][0]          \n",
      "__________________________________________________________________________________________________\n",
      "conv3_block2_out (Activation)   (None, 28, 28, 512)  0           conv3_block2_add[0][0]           \n",
      "__________________________________________________________________________________________________\n",
      "conv3_block3_1_conv (Conv2D)    (None, 28, 28, 128)  65664       conv3_block2_out[0][0]           \n",
      "__________________________________________________________________________________________________\n",
      "conv3_block3_1_bn (BatchNormali (None, 28, 28, 128)  512         conv3_block3_1_conv[0][0]        \n",
      "__________________________________________________________________________________________________\n",
      "conv3_block3_1_relu (Activation (None, 28, 28, 128)  0           conv3_block3_1_bn[0][0]          \n",
      "__________________________________________________________________________________________________\n",
      "conv3_block3_2_conv (Conv2D)    (None, 28, 28, 128)  147584      conv3_block3_1_relu[0][0]        \n",
      "__________________________________________________________________________________________________\n",
      "conv3_block3_2_bn (BatchNormali (None, 28, 28, 128)  512         conv3_block3_2_conv[0][0]        \n",
      "__________________________________________________________________________________________________\n",
      "conv3_block3_2_relu (Activation (None, 28, 28, 128)  0           conv3_block3_2_bn[0][0]          \n",
      "__________________________________________________________________________________________________\n",
      "conv3_block3_3_conv (Conv2D)    (None, 28, 28, 512)  66048       conv3_block3_2_relu[0][0]        \n",
      "__________________________________________________________________________________________________\n",
      "conv3_block3_3_bn (BatchNormali (None, 28, 28, 512)  2048        conv3_block3_3_conv[0][0]        \n",
      "__________________________________________________________________________________________________\n",
      "conv3_block3_add (Add)          (None, 28, 28, 512)  0           conv3_block2_out[0][0]           \n",
      "                                                                 conv3_block3_3_bn[0][0]          \n",
      "__________________________________________________________________________________________________\n",
      "conv3_block3_out (Activation)   (None, 28, 28, 512)  0           conv3_block3_add[0][0]           \n",
      "__________________________________________________________________________________________________\n",
      "conv3_block4_1_conv (Conv2D)    (None, 28, 28, 128)  65664       conv3_block3_out[0][0]           \n",
      "__________________________________________________________________________________________________\n",
      "conv3_block4_1_bn (BatchNormali (None, 28, 28, 128)  512         conv3_block4_1_conv[0][0]        \n",
      "__________________________________________________________________________________________________\n",
      "conv3_block4_1_relu (Activation (None, 28, 28, 128)  0           conv3_block4_1_bn[0][0]          \n",
      "__________________________________________________________________________________________________\n",
      "conv3_block4_2_conv (Conv2D)    (None, 28, 28, 128)  147584      conv3_block4_1_relu[0][0]        \n",
      "__________________________________________________________________________________________________\n",
      "conv3_block4_2_bn (BatchNormali (None, 28, 28, 128)  512         conv3_block4_2_conv[0][0]        \n",
      "__________________________________________________________________________________________________\n",
      "conv3_block4_2_relu (Activation (None, 28, 28, 128)  0           conv3_block4_2_bn[0][0]          \n",
      "__________________________________________________________________________________________________\n",
      "conv3_block4_3_conv (Conv2D)    (None, 28, 28, 512)  66048       conv3_block4_2_relu[0][0]        \n",
      "__________________________________________________________________________________________________\n",
      "conv3_block4_3_bn (BatchNormali (None, 28, 28, 512)  2048        conv3_block4_3_conv[0][0]        \n",
      "__________________________________________________________________________________________________\n",
      "conv3_block4_add (Add)          (None, 28, 28, 512)  0           conv3_block3_out[0][0]           \n",
      "                                                                 conv3_block4_3_bn[0][0]          \n",
      "__________________________________________________________________________________________________\n",
      "conv3_block4_out (Activation)   (None, 28, 28, 512)  0           conv3_block4_add[0][0]           \n",
      "__________________________________________________________________________________________________\n",
      "conv4_block1_1_conv (Conv2D)    (None, 14, 14, 256)  131328      conv3_block4_out[0][0]           \n",
      "__________________________________________________________________________________________________\n",
      "conv4_block1_1_bn (BatchNormali (None, 14, 14, 256)  1024        conv4_block1_1_conv[0][0]        \n",
      "__________________________________________________________________________________________________\n",
      "conv4_block1_1_relu (Activation (None, 14, 14, 256)  0           conv4_block1_1_bn[0][0]          \n",
      "__________________________________________________________________________________________________\n",
      "conv4_block1_2_conv (Conv2D)    (None, 14, 14, 256)  590080      conv4_block1_1_relu[0][0]        \n",
      "__________________________________________________________________________________________________\n",
      "conv4_block1_2_bn (BatchNormali (None, 14, 14, 256)  1024        conv4_block1_2_conv[0][0]        \n",
      "__________________________________________________________________________________________________\n",
      "conv4_block1_2_relu (Activation (None, 14, 14, 256)  0           conv4_block1_2_bn[0][0]          \n",
      "__________________________________________________________________________________________________\n",
      "conv4_block1_0_conv (Conv2D)    (None, 14, 14, 1024) 525312      conv3_block4_out[0][0]           \n",
      "__________________________________________________________________________________________________\n",
      "conv4_block1_3_conv (Conv2D)    (None, 14, 14, 1024) 263168      conv4_block1_2_relu[0][0]        \n",
      "__________________________________________________________________________________________________\n",
      "conv4_block1_0_bn (BatchNormali (None, 14, 14, 1024) 4096        conv4_block1_0_conv[0][0]        \n",
      "__________________________________________________________________________________________________\n",
      "conv4_block1_3_bn (BatchNormali (None, 14, 14, 1024) 4096        conv4_block1_3_conv[0][0]        \n",
      "__________________________________________________________________________________________________\n",
      "conv4_block1_add (Add)          (None, 14, 14, 1024) 0           conv4_block1_0_bn[0][0]          \n",
      "                                                                 conv4_block1_3_bn[0][0]          \n",
      "__________________________________________________________________________________________________\n",
      "conv4_block1_out (Activation)   (None, 14, 14, 1024) 0           conv4_block1_add[0][0]           \n",
      "__________________________________________________________________________________________________\n",
      "conv4_block2_1_conv (Conv2D)    (None, 14, 14, 256)  262400      conv4_block1_out[0][0]           \n",
      "__________________________________________________________________________________________________\n",
      "conv4_block2_1_bn (BatchNormali (None, 14, 14, 256)  1024        conv4_block2_1_conv[0][0]        \n",
      "__________________________________________________________________________________________________\n",
      "conv4_block2_1_relu (Activation (None, 14, 14, 256)  0           conv4_block2_1_bn[0][0]          \n",
      "__________________________________________________________________________________________________\n",
      "conv4_block2_2_conv (Conv2D)    (None, 14, 14, 256)  590080      conv4_block2_1_relu[0][0]        \n",
      "__________________________________________________________________________________________________\n",
      "conv4_block2_2_bn (BatchNormali (None, 14, 14, 256)  1024        conv4_block2_2_conv[0][0]        \n",
      "__________________________________________________________________________________________________\n",
      "conv4_block2_2_relu (Activation (None, 14, 14, 256)  0           conv4_block2_2_bn[0][0]          \n",
      "__________________________________________________________________________________________________\n",
      "conv4_block2_3_conv (Conv2D)    (None, 14, 14, 1024) 263168      conv4_block2_2_relu[0][0]        \n",
      "__________________________________________________________________________________________________\n",
      "conv4_block2_3_bn (BatchNormali (None, 14, 14, 1024) 4096        conv4_block2_3_conv[0][0]        \n",
      "__________________________________________________________________________________________________\n",
      "conv4_block2_add (Add)          (None, 14, 14, 1024) 0           conv4_block1_out[0][0]           \n",
      "                                                                 conv4_block2_3_bn[0][0]          \n",
      "__________________________________________________________________________________________________\n",
      "conv4_block2_out (Activation)   (None, 14, 14, 1024) 0           conv4_block2_add[0][0]           \n",
      "__________________________________________________________________________________________________\n",
      "conv4_block3_1_conv (Conv2D)    (None, 14, 14, 256)  262400      conv4_block2_out[0][0]           \n",
      "__________________________________________________________________________________________________\n",
      "conv4_block3_1_bn (BatchNormali (None, 14, 14, 256)  1024        conv4_block3_1_conv[0][0]        \n",
      "__________________________________________________________________________________________________\n",
      "conv4_block3_1_relu (Activation (None, 14, 14, 256)  0           conv4_block3_1_bn[0][0]          \n",
      "__________________________________________________________________________________________________\n",
      "conv4_block3_2_conv (Conv2D)    (None, 14, 14, 256)  590080      conv4_block3_1_relu[0][0]        \n",
      "__________________________________________________________________________________________________\n",
      "conv4_block3_2_bn (BatchNormali (None, 14, 14, 256)  1024        conv4_block3_2_conv[0][0]        \n",
      "__________________________________________________________________________________________________\n",
      "conv4_block3_2_relu (Activation (None, 14, 14, 256)  0           conv4_block3_2_bn[0][0]          \n",
      "__________________________________________________________________________________________________\n",
      "conv4_block3_3_conv (Conv2D)    (None, 14, 14, 1024) 263168      conv4_block3_2_relu[0][0]        \n",
      "__________________________________________________________________________________________________\n",
      "conv4_block3_3_bn (BatchNormali (None, 14, 14, 1024) 4096        conv4_block3_3_conv[0][0]        \n",
      "__________________________________________________________________________________________________\n",
      "conv4_block3_add (Add)          (None, 14, 14, 1024) 0           conv4_block2_out[0][0]           \n",
      "                                                                 conv4_block3_3_bn[0][0]          \n",
      "__________________________________________________________________________________________________\n",
      "conv4_block3_out (Activation)   (None, 14, 14, 1024) 0           conv4_block3_add[0][0]           \n",
      "__________________________________________________________________________________________________\n",
      "conv4_block4_1_conv (Conv2D)    (None, 14, 14, 256)  262400      conv4_block3_out[0][0]           \n",
      "__________________________________________________________________________________________________\n",
      "conv4_block4_1_bn (BatchNormali (None, 14, 14, 256)  1024        conv4_block4_1_conv[0][0]        \n",
      "__________________________________________________________________________________________________\n",
      "conv4_block4_1_relu (Activation (None, 14, 14, 256)  0           conv4_block4_1_bn[0][0]          \n",
      "__________________________________________________________________________________________________\n",
      "conv4_block4_2_conv (Conv2D)    (None, 14, 14, 256)  590080      conv4_block4_1_relu[0][0]        \n",
      "__________________________________________________________________________________________________\n",
      "conv4_block4_2_bn (BatchNormali (None, 14, 14, 256)  1024        conv4_block4_2_conv[0][0]        \n",
      "__________________________________________________________________________________________________\n",
      "conv4_block4_2_relu (Activation (None, 14, 14, 256)  0           conv4_block4_2_bn[0][0]          \n",
      "__________________________________________________________________________________________________\n",
      "conv4_block4_3_conv (Conv2D)    (None, 14, 14, 1024) 263168      conv4_block4_2_relu[0][0]        \n",
      "__________________________________________________________________________________________________\n",
      "conv4_block4_3_bn (BatchNormali (None, 14, 14, 1024) 4096        conv4_block4_3_conv[0][0]        \n",
      "__________________________________________________________________________________________________\n",
      "conv4_block4_add (Add)          (None, 14, 14, 1024) 0           conv4_block3_out[0][0]           \n",
      "                                                                 conv4_block4_3_bn[0][0]          \n",
      "__________________________________________________________________________________________________\n",
      "conv4_block4_out (Activation)   (None, 14, 14, 1024) 0           conv4_block4_add[0][0]           \n",
      "__________________________________________________________________________________________________\n",
      "conv4_block5_1_conv (Conv2D)    (None, 14, 14, 256)  262400      conv4_block4_out[0][0]           \n",
      "__________________________________________________________________________________________________\n",
      "conv4_block5_1_bn (BatchNormali (None, 14, 14, 256)  1024        conv4_block5_1_conv[0][0]        \n",
      "__________________________________________________________________________________________________\n",
      "conv4_block5_1_relu (Activation (None, 14, 14, 256)  0           conv4_block5_1_bn[0][0]          \n",
      "__________________________________________________________________________________________________\n",
      "conv4_block5_2_conv (Conv2D)    (None, 14, 14, 256)  590080      conv4_block5_1_relu[0][0]        \n",
      "__________________________________________________________________________________________________\n",
      "conv4_block5_2_bn (BatchNormali (None, 14, 14, 256)  1024        conv4_block5_2_conv[0][0]        \n",
      "__________________________________________________________________________________________________\n",
      "conv4_block5_2_relu (Activation (None, 14, 14, 256)  0           conv4_block5_2_bn[0][0]          \n",
      "__________________________________________________________________________________________________\n",
      "conv4_block5_3_conv (Conv2D)    (None, 14, 14, 1024) 263168      conv4_block5_2_relu[0][0]        \n",
      "__________________________________________________________________________________________________\n",
      "conv4_block5_3_bn (BatchNormali (None, 14, 14, 1024) 4096        conv4_block5_3_conv[0][0]        \n",
      "__________________________________________________________________________________________________\n",
      "conv4_block5_add (Add)          (None, 14, 14, 1024) 0           conv4_block4_out[0][0]           \n",
      "                                                                 conv4_block5_3_bn[0][0]          \n",
      "__________________________________________________________________________________________________\n",
      "conv4_block5_out (Activation)   (None, 14, 14, 1024) 0           conv4_block5_add[0][0]           \n",
      "__________________________________________________________________________________________________\n",
      "conv4_block6_1_conv (Conv2D)    (None, 14, 14, 256)  262400      conv4_block5_out[0][0]           \n",
      "__________________________________________________________________________________________________\n",
      "conv4_block6_1_bn (BatchNormali (None, 14, 14, 256)  1024        conv4_block6_1_conv[0][0]        \n",
      "__________________________________________________________________________________________________\n",
      "conv4_block6_1_relu (Activation (None, 14, 14, 256)  0           conv4_block6_1_bn[0][0]          \n",
      "__________________________________________________________________________________________________\n",
      "conv4_block6_2_conv (Conv2D)    (None, 14, 14, 256)  590080      conv4_block6_1_relu[0][0]        \n",
      "__________________________________________________________________________________________________\n",
      "conv4_block6_2_bn (BatchNormali (None, 14, 14, 256)  1024        conv4_block6_2_conv[0][0]        \n",
      "__________________________________________________________________________________________________\n",
      "conv4_block6_2_relu (Activation (None, 14, 14, 256)  0           conv4_block6_2_bn[0][0]          \n",
      "__________________________________________________________________________________________________\n",
      "conv4_block6_3_conv (Conv2D)    (None, 14, 14, 1024) 263168      conv4_block6_2_relu[0][0]        \n",
      "__________________________________________________________________________________________________\n",
      "conv4_block6_3_bn (BatchNormali (None, 14, 14, 1024) 4096        conv4_block6_3_conv[0][0]        \n",
      "__________________________________________________________________________________________________\n",
      "conv4_block6_add (Add)          (None, 14, 14, 1024) 0           conv4_block5_out[0][0]           \n",
      "                                                                 conv4_block6_3_bn[0][0]          \n",
      "__________________________________________________________________________________________________\n",
      "conv4_block6_out (Activation)   (None, 14, 14, 1024) 0           conv4_block6_add[0][0]           \n",
      "__________________________________________________________________________________________________\n",
      "conv5_block1_1_conv (Conv2D)    (None, 7, 7, 512)    524800      conv4_block6_out[0][0]           \n",
      "__________________________________________________________________________________________________\n",
      "conv5_block1_1_bn (BatchNormali (None, 7, 7, 512)    2048        conv5_block1_1_conv[0][0]        \n",
      "__________________________________________________________________________________________________\n",
      "conv5_block1_1_relu (Activation (None, 7, 7, 512)    0           conv5_block1_1_bn[0][0]          \n",
      "__________________________________________________________________________________________________\n",
      "conv5_block1_2_conv (Conv2D)    (None, 7, 7, 512)    2359808     conv5_block1_1_relu[0][0]        \n",
      "__________________________________________________________________________________________________\n",
      "conv5_block1_2_bn (BatchNormali (None, 7, 7, 512)    2048        conv5_block1_2_conv[0][0]        \n",
      "__________________________________________________________________________________________________\n",
      "conv5_block1_2_relu (Activation (None, 7, 7, 512)    0           conv5_block1_2_bn[0][0]          \n",
      "__________________________________________________________________________________________________\n",
      "conv5_block1_0_conv (Conv2D)    (None, 7, 7, 2048)   2099200     conv4_block6_out[0][0]           \n",
      "__________________________________________________________________________________________________\n",
      "conv5_block1_3_conv (Conv2D)    (None, 7, 7, 2048)   1050624     conv5_block1_2_relu[0][0]        \n",
      "__________________________________________________________________________________________________\n",
      "conv5_block1_0_bn (BatchNormali (None, 7, 7, 2048)   8192        conv5_block1_0_conv[0][0]        \n",
      "__________________________________________________________________________________________________\n",
      "conv5_block1_3_bn (BatchNormali (None, 7, 7, 2048)   8192        conv5_block1_3_conv[0][0]        \n",
      "__________________________________________________________________________________________________\n",
      "conv5_block1_add (Add)          (None, 7, 7, 2048)   0           conv5_block1_0_bn[0][0]          \n",
      "                                                                 conv5_block1_3_bn[0][0]          \n",
      "__________________________________________________________________________________________________\n",
      "conv5_block1_out (Activation)   (None, 7, 7, 2048)   0           conv5_block1_add[0][0]           \n",
      "__________________________________________________________________________________________________\n",
      "conv5_block2_1_conv (Conv2D)    (None, 7, 7, 512)    1049088     conv5_block1_out[0][0]           \n",
      "__________________________________________________________________________________________________\n",
      "conv5_block2_1_bn (BatchNormali (None, 7, 7, 512)    2048        conv5_block2_1_conv[0][0]        \n",
      "__________________________________________________________________________________________________\n",
      "conv5_block2_1_relu (Activation (None, 7, 7, 512)    0           conv5_block2_1_bn[0][0]          \n",
      "__________________________________________________________________________________________________\n",
      "conv5_block2_2_conv (Conv2D)    (None, 7, 7, 512)    2359808     conv5_block2_1_relu[0][0]        \n",
      "__________________________________________________________________________________________________\n",
      "conv5_block2_2_bn (BatchNormali (None, 7, 7, 512)    2048        conv5_block2_2_conv[0][0]        \n",
      "__________________________________________________________________________________________________\n",
      "conv5_block2_2_relu (Activation (None, 7, 7, 512)    0           conv5_block2_2_bn[0][0]          \n",
      "__________________________________________________________________________________________________\n",
      "conv5_block2_3_conv (Conv2D)    (None, 7, 7, 2048)   1050624     conv5_block2_2_relu[0][0]        \n",
      "__________________________________________________________________________________________________\n",
      "conv5_block2_3_bn (BatchNormali (None, 7, 7, 2048)   8192        conv5_block2_3_conv[0][0]        \n",
      "__________________________________________________________________________________________________\n",
      "conv5_block2_add (Add)          (None, 7, 7, 2048)   0           conv5_block1_out[0][0]           \n",
      "                                                                 conv5_block2_3_bn[0][0]          \n",
      "__________________________________________________________________________________________________\n",
      "conv5_block2_out (Activation)   (None, 7, 7, 2048)   0           conv5_block2_add[0][0]           \n",
      "__________________________________________________________________________________________________\n",
      "conv5_block3_1_conv (Conv2D)    (None, 7, 7, 512)    1049088     conv5_block2_out[0][0]           \n",
      "__________________________________________________________________________________________________\n",
      "conv5_block3_1_bn (BatchNormali (None, 7, 7, 512)    2048        conv5_block3_1_conv[0][0]        \n",
      "__________________________________________________________________________________________________\n",
      "conv5_block3_1_relu (Activation (None, 7, 7, 512)    0           conv5_block3_1_bn[0][0]          \n",
      "__________________________________________________________________________________________________\n",
      "conv5_block3_2_conv (Conv2D)    (None, 7, 7, 512)    2359808     conv5_block3_1_relu[0][0]        \n",
      "__________________________________________________________________________________________________\n",
      "conv5_block3_2_bn (BatchNormali (None, 7, 7, 512)    2048        conv5_block3_2_conv[0][0]        \n",
      "__________________________________________________________________________________________________\n",
      "conv5_block3_2_relu (Activation (None, 7, 7, 512)    0           conv5_block3_2_bn[0][0]          \n",
      "__________________________________________________________________________________________________\n",
      "conv5_block3_3_conv (Conv2D)    (None, 7, 7, 2048)   1050624     conv5_block3_2_relu[0][0]        \n",
      "__________________________________________________________________________________________________\n",
      "conv5_block3_3_bn (BatchNormali (None, 7, 7, 2048)   8192        conv5_block3_3_conv[0][0]        \n",
      "__________________________________________________________________________________________________\n",
      "conv5_block3_add (Add)          (None, 7, 7, 2048)   0           conv5_block2_out[0][0]           \n",
      "                                                                 conv5_block3_3_bn[0][0]          \n",
      "__________________________________________________________________________________________________\n",
      "conv5_block3_out (Activation)   (None, 7, 7, 2048)   0           conv5_block3_add[0][0]           \n",
      "__________________________________________________________________________________________________\n",
      "max_pool (GlobalMaxPooling2D)   (None, 2048)         0           conv5_block3_out[0][0]           \n",
      "==================================================================================================\n",
      "Total params: 23,587,712\n",
      "Trainable params: 23,534,592\n",
      "Non-trainable params: 53,120\n",
      "__________________________________________________________________________________________________\n"
     ]
    }
   ],
   "source": [
    "# 1.4 Feature extraction using Transfer Learning\n",
    "# Loading the pre-trained ResNet50 model\n",
    "# Instantiate the base model with the pre-trained weights\n",
    "model = ResNet50(\n",
    "    # Whether to include the fully-connected layer\n",
    "    # at the top of the network\n",
    "    include_top=False,\n",
    "    # Load the pre-trained weights on ImageNet\n",
    "    weights='imagenet',\n",
    "    # Optional Keras tensor to use as image input for the model\n",
    "    input_tensor=None,\n",
    "    # Optional shape tuple\n",
    "    # only to be specified if include_top is False    \n",
    "    input_shape=(224, 224, 3),\n",
    "    # Optional pooling mode for feature extraction\n",
    "    # when include_top is False\n",
    "    pooling='max',\n",
    "    # Optional number of classes to classify images into\n",
    "    # only to be specified if include_top is True\n",
    "    classes=1000)\n",
    "\n",
    "# Verifying the removal of the top layer\n",
    "model.summary()"
   ]
  },
  {
   "cell_type": "markdown",
   "id": "bf742fca",
   "metadata": {},
   "source": [
    "On repartit les poids du modèle pour être exécutés sur tous les noeuds."
   ]
  },
  {
   "cell_type": "code",
   "execution_count": 14,
   "id": "a7392d1c",
   "metadata": {},
   "outputs": [],
   "source": [
    "# Broadcasting the weights of the model to be executed\n",
    "# on all worker nodes\n",
    "bc_model_weights = sc.broadcast(model.get_weights())"
   ]
  },
  {
   "cell_type": "markdown",
   "id": "9238f9e6",
   "metadata": {},
   "source": [
    "La méthode d'extraction de features utilisée est basée sur l'exemple de la documentation de Databricks :\n",
    "https://docs.databricks.com/_static/notebooks/deep-learning/deep-learning-transfer-learning-keras.html"
   ]
  },
  {
   "cell_type": "code",
   "execution_count": 15,
   "id": "aeb1f3c3",
   "metadata": {},
   "outputs": [],
   "source": [
    "# Functions\n",
    "def load_model():\n",
    "    '''This function loads the pre-trained ResNet50 model\n",
    "    with the fully-connected layer removed\n",
    "    and broadcasts the pre-trained weights.\n",
    "    '''\n",
    "    model = ResNet50(include_top=False,\n",
    "                     weights='imagenet',\n",
    "                     input_shape=(224, 224, 3),\n",
    "                     pooling='max')\n",
    "    model.set_weights(bc_model_weights.value)\n",
    "    \n",
    "    return model\n",
    "\n",
    "\n",
    "def image_preprocessing(image):\n",
    "    '''This function loads and returns a preprocessed picture.'''\n",
    "    # Loading and resizing the picture\n",
    "    image = Image.open(io.BytesIO(image)).resize([224, 224])\n",
    "    \n",
    "    # Converting the image pixels to a numpy array\n",
    "    image = img_to_array(image)\n",
    "    \n",
    "    # Reshaping the input data\n",
    "    # image = np.expand_dims(image, axis=0)\n",
    "\n",
    "    # Preprocessing: normalising input data\n",
    "    image = preprocess_input(image)\n",
    "    \n",
    "    return image\n",
    "\n",
    "\n",
    "def feature_extractor(model, series_content):\n",
    "    '''This function extracts features of a Pandas series\n",
    "    of raw images using the Transfer Learning\n",
    "    and returns a Pandas series of the features of images.\n",
    "    '''\n",
    "    # Image preprocessing\n",
    "    input = np.stack(series_content.map(image_preprocessing))\n",
    "    \n",
    "    # Getting the features\n",
    "    predictions = model.predict(input)\n",
    "    \n",
    "    # Flatten the features tensors to vectors\n",
    "    # for easier storage in the Spark dataframe\n",
    "    features = [p.flatten() for p in predictions]\n",
    "    \n",
    "    # Creating a Pandas series of image features\n",
    "    features_series = pd.Series(features)\n",
    "    return features_series\n",
    "\n",
    "\n",
    "@pandas_udf('array<float>', PandasUDFType.SCALAR_ITER)\n",
    "def apply_udf_featurizer(content):\n",
    "    '''This function is a Scalar Iterator pandas UDF wrapping\n",
    "    the feature_extractor. The decorator specifies that\n",
    "    this returns a Spark DataFrame column of type ArrayType(FloatType).\n",
    "    '''\n",
    "    # Loading the model once\n",
    "    model = load_model()\n",
    "    \n",
    "    # Applying the featurization function\n",
    "    for series_content in content:\n",
    "        yield feature_extractor(model, series_content)"
   ]
  },
  {
   "cell_type": "markdown",
   "id": "ec619f8a",
   "metadata": {},
   "source": [
    "Nous allons appliquer la fonction permettant d'extraire les features.\n",
    "\n",
    "Le paramètre \"numPartitions\" de la méthode repartition() permet de choisir le nombre de partitions des données. Avec deux partitions, les processeurs (2 vCPU) sont correctement utilisés."
   ]
  },
  {
   "cell_type": "code",
   "execution_count": 16,
   "id": "92d5cc1a",
   "metadata": {},
   "outputs": [
    {
     "name": "stdout",
     "output_type": "stream",
     "text": [
      "root\n",
      " |-- path: string (nullable = true)\n",
      " |-- category: string (nullable = true)\n",
      " |-- content: binary (nullable = true)\n",
      " |-- features: array (nullable = true)\n",
      " |    |-- element: float (containsNull = true)\n",
      "\n"
     ]
    },
    {
     "name": "stderr",
     "output_type": "stream",
     "text": [
      "                                                                                \r"
     ]
    },
    {
     "name": "stdout",
     "output_type": "stream",
     "text": [
      "+--------------------+--------------------+--------------------+--------------------+\n",
      "|                path|            category|             content|            features|\n",
      "+--------------------+--------------------+--------------------+--------------------+\n",
      "|s3a://p8-cloud-bi...|         apple_hit_1|[FF D8 FF E0 00 1...|[6.9625673, 9.492...|\n",
      "|s3a://p8-cloud-bi...|          cucumber_3|[FF D8 FF E0 00 1...|[5.1304393, 4.882...|\n",
      "|s3a://p8-cloud-bi...|         apple_red_3|[FF D8 FF E0 00 1...|[14.562844, 0.961...|\n",
      "|s3a://p8-cloud-bi...|apple_crimson_snow_1|[FF D8 FF E0 00 1...|[5.323951, 5.5890...|\n",
      "|s3a://p8-cloud-bi...|apple_crimson_snow_1|[FF D8 FF E0 00 1...|[3.8937764, 4.312...|\n",
      "|s3a://p8-cloud-bi...|         apple_red_1|[FF D8 FF E0 00 1...|[7.1280622, 6.190...|\n",
      "|s3a://p8-cloud-bi...|    apple_braeburn_1|[FF D8 FF E0 00 1...|[6.4206247, 4.809...|\n",
      "|s3a://p8-cloud-bi...|   apple_pink_lady_1|[FF D8 FF E0 00 1...|[4.9558983, 3.461...|\n",
      "|s3a://p8-cloud-bi...|apple_granny_smith_1|[FF D8 FF E0 00 1...|[3.9184222, 5.247...|\n",
      "|s3a://p8-cloud-bi...|      apple_golden_2|[FF D8 FF E0 00 1...|[4.75827, 11.9973...|\n",
      "+--------------------+--------------------+--------------------+--------------------+\n",
      "\n",
      "\n",
      "Processing time: 222.0 seconds\n"
     ]
    }
   ],
   "source": [
    "# Applying the distributed featurization to the dataframe of images\n",
    "start_time = time.time()\n",
    "numPartitions = 2\n",
    "features_df = images_sdf.repartition(numPartitions).select(\n",
    "    col('path'),\n",
    "    col('category'),\n",
    "    col('content'),\n",
    "    apply_udf_featurizer('content').alias('features'))\n",
    "features_df.printSchema()\n",
    "features_df.show(10)\n",
    "duration = time.time() - start_time\n",
    "print(\"\\nProcessing time: {:.1f} seconds\".format(duration))"
   ]
  },
  {
   "cell_type": "markdown",
   "id": "600f33f3",
   "metadata": {},
   "source": [
    "# 2. Réduction de dimension"
   ]
  },
  {
   "cell_type": "markdown",
   "id": "9c5eaf81",
   "metadata": {},
   "source": [
    "## 2.1 Prétraitement des données"
   ]
  },
  {
   "cell_type": "markdown",
   "id": "d2db7dc4",
   "metadata": {},
   "source": [
    "### 2.1.1 Vectorisation"
   ]
  },
  {
   "cell_type": "markdown",
   "id": "4b399adf",
   "metadata": {},
   "source": [
    "Nous commençons par transformer les variables en vecteurs denses."
   ]
  },
  {
   "cell_type": "code",
   "execution_count": 17,
   "id": "f6600273",
   "metadata": {},
   "outputs": [
    {
     "name": "stdout",
     "output_type": "stream",
     "text": [
      "root\n",
      " |-- path: string (nullable = true)\n",
      " |-- category: string (nullable = true)\n",
      " |-- content: binary (nullable = true)\n",
      " |-- features: array (nullable = true)\n",
      " |    |-- element: float (containsNull = true)\n",
      " |-- vectorized_features: vector (nullable = true)\n",
      "\n"
     ]
    },
    {
     "name": "stderr",
     "output_type": "stream",
     "text": [
      "                                                                                \r"
     ]
    },
    {
     "name": "stdout",
     "output_type": "stream",
     "text": [
      "+--------------------+--------------------+--------------------+--------------------+--------------------+\n",
      "|                path|            category|             content|            features| vectorized_features|\n",
      "+--------------------+--------------------+--------------------+--------------------+--------------------+\n",
      "|s3a://p8-cloud-bi...|         apple_hit_1|[FF D8 FF E0 00 1...|[6.9625673, 9.492...|[6.96256732940673...|\n",
      "|s3a://p8-cloud-bi...|          cucumber_3|[FF D8 FF E0 00 1...|[5.1304393, 4.882...|[5.13043928146362...|\n",
      "|s3a://p8-cloud-bi...|         apple_red_3|[FF D8 FF E0 00 1...|[14.562844, 0.961...|[14.5628442764282...|\n",
      "|s3a://p8-cloud-bi...|apple_crimson_snow_1|[FF D8 FF E0 00 1...|[5.323951, 5.5890...|[5.32395076751709...|\n",
      "|s3a://p8-cloud-bi...|apple_crimson_snow_1|[FF D8 FF E0 00 1...|[3.8937764, 4.312...|[3.89377641677856...|\n",
      "|s3a://p8-cloud-bi...|         apple_red_1|[FF D8 FF E0 00 1...|[7.1280622, 6.190...|[7.12806224822998...|\n",
      "|s3a://p8-cloud-bi...|    apple_braeburn_1|[FF D8 FF E0 00 1...|[6.4206247, 4.809...|[6.42062473297119...|\n",
      "|s3a://p8-cloud-bi...|   apple_pink_lady_1|[FF D8 FF E0 00 1...|[4.9558983, 3.461...|[4.95589828491210...|\n",
      "|s3a://p8-cloud-bi...|apple_granny_smith_1|[FF D8 FF E0 00 1...|[3.9184222, 5.247...|[3.91842222213745...|\n",
      "|s3a://p8-cloud-bi...|      apple_golden_2|[FF D8 FF E0 00 1...|[4.75827, 11.9973...|[4.75826978683471...|\n",
      "+--------------------+--------------------+--------------------+--------------------+--------------------+\n",
      "\n",
      "\n",
      "Processing time: 194.9 seconds\n"
     ]
    }
   ],
   "source": [
    "# 2. Dimension reduction\n",
    "# 2.1 Data preprocessing\n",
    "# 2.1.1 Vectorisation\n",
    "# Creating the dense vectors\n",
    "start_time = time.time()\n",
    "udf_vectorizer = udf(lambda x: Vectors.dense(x), VectorUDT())\n",
    "vec_features_df = features_df.select(\n",
    "    col('path'),\n",
    "    col('category'),\n",
    "    col('content'),\n",
    "    col('features'),\n",
    "    udf_vectorizer('features').alias('vectorized_features'))\n",
    "vec_features_df.printSchema()\n",
    "vec_features_df.show(10)\n",
    "duration = time.time() - start_time\n",
    "print(\"\\nProcessing time: {:.1f} seconds\".format(duration))"
   ]
  },
  {
   "cell_type": "markdown",
   "id": "80812b80",
   "metadata": {},
   "source": [
    "### 2.1.2 Standardisation"
   ]
  },
  {
   "cell_type": "markdown",
   "id": "0e9a3a89",
   "metadata": {},
   "source": [
    "Ensuite, nous standardisons les données."
   ]
  },
  {
   "cell_type": "code",
   "execution_count": 18,
   "id": "2ec749ae",
   "metadata": {},
   "outputs": [
    {
     "name": "stderr",
     "output_type": "stream",
     "text": [
      "                                                                                \r"
     ]
    },
    {
     "name": "stdout",
     "output_type": "stream",
     "text": [
      "root\n",
      " |-- path: string (nullable = true)\n",
      " |-- category: string (nullable = true)\n",
      " |-- content: binary (nullable = true)\n",
      " |-- features: array (nullable = true)\n",
      " |    |-- element: float (containsNull = true)\n",
      " |-- scaled_features: vector (nullable = true)\n",
      "\n"
     ]
    },
    {
     "name": "stderr",
     "output_type": "stream",
     "text": [
      "                                                                                \r"
     ]
    },
    {
     "name": "stdout",
     "output_type": "stream",
     "text": [
      "+--------------------+--------------------+--------------------+--------------------+--------------------+\n",
      "|                path|            category|             content|            features|     scaled_features|\n",
      "+--------------------+--------------------+--------------------+--------------------+--------------------+\n",
      "|s3a://p8-cloud-bi...|         apple_hit_1|[FF D8 FF E0 00 1...|[6.9625673, 9.492...|[0.21088032675988...|\n",
      "|s3a://p8-cloud-bi...|          cucumber_3|[FF D8 FF E0 00 1...|[5.1304393, 4.882...|[-0.3771130775769...|\n",
      "|s3a://p8-cloud-bi...|         apple_red_3|[FF D8 FF E0 00 1...|[14.562844, 0.961...|[2.65007267524165...|\n",
      "|s3a://p8-cloud-bi...|apple_crimson_snow_1|[FF D8 FF E0 00 1...|[5.323951, 5.5890...|[-0.3150085333063...|\n",
      "|s3a://p8-cloud-bi...|apple_crimson_snow_1|[FF D8 FF E0 00 1...|[3.8937764, 4.312...|[-0.7740010618198...|\n",
      "|s3a://p8-cloud-bi...|         apple_red_1|[FF D8 FF E0 00 1...|[7.1280622, 6.190...|[0.26399338336559...|\n",
      "|s3a://p8-cloud-bi...|    apple_braeburn_1|[FF D8 FF E0 00 1...|[6.4206247, 4.809...|[0.03695216022642...|\n",
      "|s3a://p8-cloud-bi...|   apple_pink_lady_1|[FF D8 FF E0 00 1...|[4.9558983, 3.461...|[-0.4331293341229...|\n",
      "|s3a://p8-cloud-bi...|apple_granny_smith_1|[FF D8 FF E0 00 1...|[3.9184222, 5.247...|[-0.7660913684925...|\n",
      "|s3a://p8-cloud-bi...|      apple_golden_2|[FF D8 FF E0 00 1...|[4.75827, 11.9973...|[-0.4965551702749...|\n",
      "+--------------------+--------------------+--------------------+--------------------+--------------------+\n",
      "\n",
      "\n",
      "Processing time: 374.4 seconds\n"
     ]
    }
   ],
   "source": [
    "# 2.1.2 Standardisation\n",
    "# Centering and scaling data\n",
    "start_time = time.time()\n",
    "scaler = StandardScaler(withMean=True,\n",
    "                        withStd=True,\n",
    "                        inputCol='vectorized_features',\n",
    "                        outputCol='scaled_features')\n",
    "scaler_model = scaler.fit(vec_features_df)\n",
    "scaled_features_df = scaler_model.transform(\n",
    "    vec_features_df).select(['path',\n",
    "                             'category',\n",
    "                             'content',\n",
    "                             'features',\n",
    "                             'scaled_features'])\n",
    "scaled_features_df.printSchema()\n",
    "scaled_features_df.show(10)\n",
    "duration = time.time() - start_time\n",
    "print(\"\\nProcessing time: {:.1f} seconds\".format(duration))"
   ]
  },
  {
   "cell_type": "markdown",
   "id": "a32b12f4",
   "metadata": {},
   "source": [
    "## 2.2 Analyse en composantes principales (ACP)"
   ]
  },
  {
   "cell_type": "markdown",
   "id": "09f33363",
   "metadata": {},
   "source": [
    "Nous effectuons l'ACP. C'est une méthode de réduction de dimension linéaire qui favorise la structure globale des données et qui maximise la variance en minimisant l’erreur en distance euclidienne entre les données originales et la projection. L'ACP s'applique à des données denses et permet de créer des variables décorrélées entre elles, et de diminuer leurs dimensions, tout en gardant un pourcentage de variance expliquée élevé."
   ]
  },
  {
   "cell_type": "code",
   "execution_count": 19,
   "id": "12bb3352",
   "metadata": {
    "scrolled": false
   },
   "outputs": [
    {
     "name": "stderr",
     "output_type": "stream",
     "text": [
      "                                                                                \r"
     ]
    },
    {
     "name": "stdout",
     "output_type": "stream",
     "text": [
      "root\n",
      " |-- path: string (nullable = true)\n",
      " |-- category: string (nullable = true)\n",
      " |-- content: binary (nullable = true)\n",
      " |-- features: array (nullable = true)\n",
      " |    |-- element: float (containsNull = true)\n",
      " |-- reduced_features: vector (nullable = true)\n",
      "\n"
     ]
    },
    {
     "name": "stderr",
     "output_type": "stream",
     "text": [
      "                                                                                \r"
     ]
    },
    {
     "name": "stdout",
     "output_type": "stream",
     "text": [
      "+--------------------+--------------------+--------------------+--------------------+--------------------+\n",
      "|                path|            category|             content|            features|    reduced_features|\n",
      "+--------------------+--------------------+--------------------+--------------------+--------------------+\n",
      "|s3a://p8-cloud-bi...|         apple_hit_1|[FF D8 FF E0 00 1...|[6.9625673, 9.492...|[-47.129795813981...|\n",
      "|s3a://p8-cloud-bi...|          cucumber_3|[FF D8 FF E0 00 1...|[5.1304393, 4.882...|[-28.262829411201...|\n",
      "|s3a://p8-cloud-bi...|         apple_red_3|[FF D8 FF E0 00 1...|[14.562844, 0.961...|[-7.7585348562106...|\n",
      "|s3a://p8-cloud-bi...|apple_crimson_snow_1|[FF D8 FF E0 00 1...|[5.323951, 5.5890...|[21.1098552843159...|\n",
      "|s3a://p8-cloud-bi...|apple_crimson_snow_1|[FF D8 FF E0 00 1...|[3.8937764, 4.312...|[21.1473300175267...|\n",
      "|s3a://p8-cloud-bi...|         apple_red_1|[FF D8 FF E0 00 1...|[7.1280622, 6.190...|[6.80869224238575...|\n",
      "|s3a://p8-cloud-bi...|    apple_braeburn_1|[FF D8 FF E0 00 1...|[6.4206247, 4.809...|[12.8482530990671...|\n",
      "|s3a://p8-cloud-bi...|   apple_pink_lady_1|[FF D8 FF E0 00 1...|[4.9558983, 3.461...|[11.8641562321735...|\n",
      "|s3a://p8-cloud-bi...|apple_granny_smith_1|[FF D8 FF E0 00 1...|[3.9184222, 5.247...|[10.0084333138799...|\n",
      "|s3a://p8-cloud-bi...|      apple_golden_2|[FF D8 FF E0 00 1...|[4.75827, 11.9973...|[-0.6355601079554...|\n",
      "+--------------------+--------------------+--------------------+--------------------+--------------------+\n",
      "\n",
      "\n",
      "Processing time: 430.1 seconds\n"
     ]
    }
   ],
   "source": [
    "# 2.2 Principal component analysis (PCA)\n",
    "# Performing the PCA\n",
    "start_time = time.time()\n",
    "n_comp = 9\n",
    "pca = PCA(k=n_comp,\n",
    "          inputCol='scaled_features',\n",
    "          outputCol='reduced_features')\n",
    "pca_model = pca.fit(scaled_features_df)\n",
    "reduced_features_df = pca_model.transform(\n",
    "    scaled_features_df).select(['path',\n",
    "                                'category',\n",
    "                                'content',\n",
    "                                'features',\n",
    "                                'reduced_features'])\n",
    "reduced_features_df.printSchema()\n",
    "reduced_features_df.show(10)\n",
    "duration = time.time() - start_time\n",
    "print(\"\\nProcessing time: {:.1f} seconds\".format(duration))"
   ]
  },
  {
   "cell_type": "markdown",
   "id": "44298fd7",
   "metadata": {},
   "source": [
    "Nous affichons le pourcentage de variance expliquée par chaque composante."
   ]
  },
  {
   "cell_type": "code",
   "execution_count": 20,
   "id": "31b4a056",
   "metadata": {},
   "outputs": [
    {
     "data": {
      "text/plain": [
       "DenseVector([0.2425, 0.1964, 0.1418, 0.14, 0.1067, 0.0572, 0.0514, 0.0497, 0.0142])"
      ]
     },
     "execution_count": 20,
     "metadata": {},
     "output_type": "execute_result"
    }
   ],
   "source": [
    "# Percentage of variance explained by each component\n",
    "pca_model.explainedVariance"
   ]
  },
  {
   "cell_type": "markdown",
   "id": "26a5fa0c",
   "metadata": {},
   "source": [
    "Nous allons visualiser l'éboulis des valeurs propres."
   ]
  },
  {
   "cell_type": "code",
   "execution_count": 21,
   "id": "a418666a",
   "metadata": {
    "scrolled": false
   },
   "outputs": [
    {
     "data": {
      "image/png": "[encoded data removed]",
      "text/plain": [
       "<Figure size 576x396 with 1 Axes>"
      ]
     },
     "metadata": {},
     "output_type": "display_data"
    }
   ],
   "source": [
    "# Displaying the scree plot\n",
    "eigen_val = pca_model.explainedVariance.cumsum()\n",
    "\n",
    "# Setting up the figure\n",
    "sns.lineplot(x=[i for i in range(n_comp + 1)], \n",
    "             y=np.insert(eigen_val, 0, 0) * 100)\n",
    "plt.title('PCA - Scree of eigen values')\n",
    "plt.xlabel('Principal component')\n",
    "plt.ylabel('Variance explained (%)')\n",
    "plt.ylim(0, 120)\n",
    "plt.xlim(left=0)\n",
    "plt.axhline(y=99, color='red', linestyle='--')\n",
    "plt.text(1, 99, '99%', c='red')\n",
    "plt.show()"
   ]
  },
  {
   "cell_type": "markdown",
   "id": "b7d78aa5",
   "metadata": {},
   "source": [
    "Pour construire cette première version de l'architecture Big Data, on sélectionne 9 composantes principales (100% de la variance expliquée) pour la visualisation.\n",
    "Le nombre de composantes principales dépend du pourcentage de variance expliquée souhaitée :\n",
    "- Les 8 premières composantes principales permettent d'expliquer environ 99% de la variance totale.\n",
    "- Les 6 premières composantes principales permettent d'expliquer environ 90% de la variance totale.\n",
    "- Les 5 premières composantes principales permettent d'expliquer environ 85% de la variance totale.\n",
    "\n",
    "Lorsque le volume des données augmente, il faudra adapter le nombre de composantes principales."
   ]
  },
  {
   "cell_type": "markdown",
   "id": "a1acf712",
   "metadata": {},
   "source": [
    "## 2.3 Export et sauvegarde du résultat de la réduction de dimension en format csv sur S3"
   ]
  },
  {
   "cell_type": "markdown",
   "id": "d18361ac",
   "metadata": {},
   "source": [
    "On commence par créer les labels à partir des catégories des fruits."
   ]
  },
  {
   "cell_type": "code",
   "execution_count": 22,
   "id": "a14c8a10",
   "metadata": {},
   "outputs": [
    {
     "name": "stderr",
     "output_type": "stream",
     "text": [
      "[Stage 46:>                                                         (0 + 1) / 1]\r"
     ]
    },
    {
     "name": "stdout",
     "output_type": "stream",
     "text": [
      "+--------------------+--------------------+-----+--------------------+--------------------+\n",
      "|                path|            category|label|            features|    reduced_features|\n",
      "+--------------------+--------------------+-----+--------------------+--------------------+\n",
      "|s3a://p8-cloud-bi...|         apple_hit_1|  4.0|[6.9625673, 9.492...|[-47.129795813981...|\n",
      "|s3a://p8-cloud-bi...|          cucumber_3|  8.0|[5.1304393, 4.882...|[-28.262829411201...|\n",
      "|s3a://p8-cloud-bi...|         apple_red_3|  7.0|[14.562844, 0.961...|[-7.7585348562106...|\n",
      "|s3a://p8-cloud-bi...|apple_crimson_snow_1|  0.0|[5.323951, 5.5890...|[21.1098552843159...|\n",
      "|s3a://p8-cloud-bi...|apple_crimson_snow_1|  0.0|[3.8937764, 4.312...|[21.1473300175267...|\n",
      "|s3a://p8-cloud-bi...|         apple_red_1|  6.0|[7.1280622, 6.190...|[6.80869224238575...|\n",
      "|s3a://p8-cloud-bi...|    apple_braeburn_1|  1.0|[6.4206247, 4.809...|[12.8482530990671...|\n",
      "|s3a://p8-cloud-bi...|   apple_pink_lady_1|  5.0|[4.9558983, 3.461...|[11.8641562321735...|\n",
      "|s3a://p8-cloud-bi...|apple_granny_smith_1|  3.0|[3.9184222, 5.247...|[10.0084333138799...|\n",
      "|s3a://p8-cloud-bi...|      apple_golden_2|  2.0|[4.75827, 11.9973...|[-0.6355601079554...|\n",
      "+--------------------+--------------------+-----+--------------------+--------------------+\n",
      "\n",
      "\n",
      "Processing time: 213.6 seconds\n"
     ]
    },
    {
     "name": "stderr",
     "output_type": "stream",
     "text": [
      "\r",
      "                                                                                \r"
     ]
    }
   ],
   "source": [
    "# 2.3 Exporting and saving the result of the dimension reduction\n",
    "# in csv format on S3\n",
    "# Creating the labels\n",
    "start_time = time.time()\n",
    "indexer = StringIndexer(inputCol='category', outputCol='label')\n",
    "indexer_model = indexer.fit(reduced_features_df)\n",
    "preprocessed_df = indexer_model.transform(\n",
    "    reduced_features_df).select(['path',\n",
    "                                 'category',\n",
    "                                 'label',\n",
    "                                 'features',\n",
    "                                 'reduced_features'])\n",
    "preprocessed_df.show(10)\n",
    "duration = time.time() - start_time\n",
    "print(\"\\nProcessing time: {:.1f} seconds\".format(duration))"
   ]
  },
  {
   "cell_type": "markdown",
   "id": "e16d03c6",
   "metadata": {},
   "source": [
    "On convertit ensuite le Spark dataframe en Pandas dataframe."
   ]
  },
  {
   "cell_type": "code",
   "execution_count": 23,
   "id": "45a71002",
   "metadata": {},
   "outputs": [
    {
     "name": "stderr",
     "output_type": "stream",
     "text": [
      "                                                                                \r"
     ]
    },
    {
     "data": {
      "text/html": [
       "<div>\n",
       "<style scoped>\n",
       "    .dataframe tbody tr th:only-of-type {\n",
       "        vertical-align: middle;\n",
       "    }\n",
       "\n",
       "    .dataframe tbody tr th {\n",
       "        vertical-align: top;\n",
       "    }\n",
       "\n",
       "    .dataframe thead th {\n",
       "        text-align: right;\n",
       "    }\n",
       "</style>\n",
       "<table border=\"1\" class=\"dataframe\">\n",
       "  <thead>\n",
       "    <tr style=\"text-align: right;\">\n",
       "      <th></th>\n",
       "      <th>path</th>\n",
       "      <th>category</th>\n",
       "      <th>label</th>\n",
       "      <th>features</th>\n",
       "      <th>reduced_features</th>\n",
       "    </tr>\n",
       "  </thead>\n",
       "  <tbody>\n",
       "    <tr>\n",
       "      <th>0</th>\n",
       "      <td>s3a://p8-cloud-bigdata-aws/fruits-360-original...</td>\n",
       "      <td>apple_hit_1</td>\n",
       "      <td>4.0</td>\n",
       "      <td>[6.962567329406738, 9.492433547973633, 7.29555...</td>\n",
       "      <td>[-47.12979581398177, 26.06335348875705, 4.9630...</td>\n",
       "    </tr>\n",
       "    <tr>\n",
       "      <th>1</th>\n",
       "      <td>s3a://p8-cloud-bigdata-aws/fruits-360-original...</td>\n",
       "      <td>cucumber_3</td>\n",
       "      <td>8.0</td>\n",
       "      <td>[5.130439281463623, 4.882056713104248, 0.42877...</td>\n",
       "      <td>[-28.262829411201103, -48.70741978009874, -2.8...</td>\n",
       "    </tr>\n",
       "    <tr>\n",
       "      <th>2</th>\n",
       "      <td>s3a://p8-cloud-bigdata-aws/fruits-360-original...</td>\n",
       "      <td>apple_red_3</td>\n",
       "      <td>7.0</td>\n",
       "      <td>[14.562844276428223, 0.9616373777389526, 0.593...</td>\n",
       "      <td>[-7.758534856210661, 22.007037002936922, -23.5...</td>\n",
       "    </tr>\n",
       "    <tr>\n",
       "      <th>3</th>\n",
       "      <td>s3a://p8-cloud-bigdata-aws/fruits-360-original...</td>\n",
       "      <td>apple_crimson_snow_1</td>\n",
       "      <td>0.0</td>\n",
       "      <td>[5.32395076751709, 5.5890421867370605, 0.43348...</td>\n",
       "      <td>[21.109855284315902, -1.2047708354142452, -4.7...</td>\n",
       "    </tr>\n",
       "    <tr>\n",
       "      <th>4</th>\n",
       "      <td>s3a://p8-cloud-bigdata-aws/fruits-360-original...</td>\n",
       "      <td>apple_crimson_snow_1</td>\n",
       "      <td>0.0</td>\n",
       "      <td>[3.8937764167785645, 4.312593460083008, 0.7900...</td>\n",
       "      <td>[21.147330017526716, 0.4738377577635978, -5.03...</td>\n",
       "    </tr>\n",
       "    <tr>\n",
       "      <th>5</th>\n",
       "      <td>s3a://p8-cloud-bigdata-aws/fruits-360-original...</td>\n",
       "      <td>apple_red_1</td>\n",
       "      <td>6.0</td>\n",
       "      <td>[7.1280622482299805, 6.190267562866211, 3.6065...</td>\n",
       "      <td>[6.80869224238575, 5.1307971211400885, 43.0085...</td>\n",
       "    </tr>\n",
       "    <tr>\n",
       "      <th>6</th>\n",
       "      <td>s3a://p8-cloud-bigdata-aws/fruits-360-original...</td>\n",
       "      <td>apple_braeburn_1</td>\n",
       "      <td>1.0</td>\n",
       "      <td>[6.420624732971191, 4.809239387512207, 2.44468...</td>\n",
       "      <td>[12.848253099067142, 0.6652462867003023, 0.441...</td>\n",
       "    </tr>\n",
       "    <tr>\n",
       "      <th>7</th>\n",
       "      <td>s3a://p8-cloud-bigdata-aws/fruits-360-original...</td>\n",
       "      <td>apple_pink_lady_1</td>\n",
       "      <td>5.0</td>\n",
       "      <td>[4.955898284912109, 3.461568832397461, 0.0, 2....</td>\n",
       "      <td>[11.86415623217356, 1.393104194362233, -1.8056...</td>\n",
       "    </tr>\n",
       "    <tr>\n",
       "      <th>8</th>\n",
       "      <td>s3a://p8-cloud-bigdata-aws/fruits-360-original...</td>\n",
       "      <td>apple_granny_smith_1</td>\n",
       "      <td>3.0</td>\n",
       "      <td>[3.918422222137451, 5.247025489807129, 1.21618...</td>\n",
       "      <td>[10.008433313879934, -2.4242273608570355, -10....</td>\n",
       "    </tr>\n",
       "    <tr>\n",
       "      <th>9</th>\n",
       "      <td>s3a://p8-cloud-bigdata-aws/fruits-360-original...</td>\n",
       "      <td>apple_golden_2</td>\n",
       "      <td>2.0</td>\n",
       "      <td>[4.758269786834717, 11.997347831726074, 7.1577...</td>\n",
       "      <td>[-0.6355601079554737, -3.3969578752901755, -0....</td>\n",
       "    </tr>\n",
       "  </tbody>\n",
       "</table>\n",
       "</div>"
      ],
      "text/plain": [
       "                                                path              category  \\\n",
       "0  s3a://p8-cloud-bigdata-aws/fruits-360-original...           apple_hit_1   \n",
       "1  s3a://p8-cloud-bigdata-aws/fruits-360-original...            cucumber_3   \n",
       "2  s3a://p8-cloud-bigdata-aws/fruits-360-original...           apple_red_3   \n",
       "3  s3a://p8-cloud-bigdata-aws/fruits-360-original...  apple_crimson_snow_1   \n",
       "4  s3a://p8-cloud-bigdata-aws/fruits-360-original...  apple_crimson_snow_1   \n",
       "5  s3a://p8-cloud-bigdata-aws/fruits-360-original...           apple_red_1   \n",
       "6  s3a://p8-cloud-bigdata-aws/fruits-360-original...      apple_braeburn_1   \n",
       "7  s3a://p8-cloud-bigdata-aws/fruits-360-original...     apple_pink_lady_1   \n",
       "8  s3a://p8-cloud-bigdata-aws/fruits-360-original...  apple_granny_smith_1   \n",
       "9  s3a://p8-cloud-bigdata-aws/fruits-360-original...        apple_golden_2   \n",
       "\n",
       "   label                                           features  \\\n",
       "0    4.0  [6.962567329406738, 9.492433547973633, 7.29555...   \n",
       "1    8.0  [5.130439281463623, 4.882056713104248, 0.42877...   \n",
       "2    7.0  [14.562844276428223, 0.9616373777389526, 0.593...   \n",
       "3    0.0  [5.32395076751709, 5.5890421867370605, 0.43348...   \n",
       "4    0.0  [3.8937764167785645, 4.312593460083008, 0.7900...   \n",
       "5    6.0  [7.1280622482299805, 6.190267562866211, 3.6065...   \n",
       "6    1.0  [6.420624732971191, 4.809239387512207, 2.44468...   \n",
       "7    5.0  [4.955898284912109, 3.461568832397461, 0.0, 2....   \n",
       "8    3.0  [3.918422222137451, 5.247025489807129, 1.21618...   \n",
       "9    2.0  [4.758269786834717, 11.997347831726074, 7.1577...   \n",
       "\n",
       "                                    reduced_features  \n",
       "0  [-47.12979581398177, 26.06335348875705, 4.9630...  \n",
       "1  [-28.262829411201103, -48.70741978009874, -2.8...  \n",
       "2  [-7.758534856210661, 22.007037002936922, -23.5...  \n",
       "3  [21.109855284315902, -1.2047708354142452, -4.7...  \n",
       "4  [21.147330017526716, 0.4738377577635978, -5.03...  \n",
       "5  [6.80869224238575, 5.1307971211400885, 43.0085...  \n",
       "6  [12.848253099067142, 0.6652462867003023, 0.441...  \n",
       "7  [11.86415623217356, 1.393104194362233, -1.8056...  \n",
       "8  [10.008433313879934, -2.4242273608570355, -10....  \n",
       "9  [-0.6355601079554737, -3.3969578752901755, -0....  "
      ]
     },
     "execution_count": 23,
     "metadata": {},
     "output_type": "execute_result"
    }
   ],
   "source": [
    "# Converting the Spark dataframe into a Pandas dataframe\n",
    "dataset_df = preprocessed_df.toPandas()\n",
    "dataset_df"
   ]
  },
  {
   "cell_type": "markdown",
   "id": "bdb302ca",
   "metadata": {},
   "source": [
    "Enfin, on sauvegarde le Pandas dataframe sur S3 dans le compartiment 'p8-cloud-bigdata-aws'."
   ]
  },
  {
   "cell_type": "code",
   "execution_count": 24,
   "id": "cd576e52",
   "metadata": {},
   "outputs": [
    {
     "data": {
      "text/plain": [
       "{'ResponseMetadata': {'RequestId': 'Q21AMS8B2FR5R9EF',\n",
       "  'HostId': 'yfGwHMpS5P9u+8jyHNpMKMHMBIfLTM2+SzOAjkn+qA+20OXod1LkQUMYwsHygt3vG1wt32UDiyU=',\n",
       "  'HTTPStatusCode': 200,\n",
       "  'HTTPHeaders': {'x-amz-id-2': 'yfGwHMpS5P9u+8jyHNpMKMHMBIfLTM2+SzOAjkn+qA+20OXod1LkQUMYwsHygt3vG1wt32UDiyU=',\n",
       "   'x-amz-request-id': 'Q21AMS8B2FR5R9EF',\n",
       "   'date': 'Fri, 29 Apr 2022 11:17:02 GMT',\n",
       "   'etag': '\"739ac2ed4b6550f6285953e5369d09c0\"',\n",
       "   'server': 'AmazonS3',\n",
       "   'content-length': '0'},\n",
       "  'RetryAttempts': 1},\n",
       " 'ETag': '\"739ac2ed4b6550f6285953e5369d09c0\"'}"
      ]
     },
     "execution_count": 24,
     "metadata": {},
     "output_type": "execute_result"
    }
   ],
   "source": [
    "# Saving the Pandas dataframe on S3 into a bucket\n",
    "csv_buffer = StringIO()\n",
    "dataset_df.to_csv(csv_buffer, index=False)\n",
    "s3_client.put_object(Body=csv_buffer.getvalue(),\n",
    "                     Bucket=BUCKET_NAME,\n",
    "                     Key='P8_03_pretraitement.csv')"
   ]
  },
  {
   "cell_type": "markdown",
   "id": "adb66039",
   "metadata": {},
   "source": [
    "# Conclusion"
   ]
  },
  {
   "cell_type": "markdown",
   "id": "001e37da",
   "metadata": {},
   "source": [
    "- L’architecture Big Data présentée permet d’effectuer le passage à l’échelle pour le traitement des données massives.\n",
    "- Lors du passage à l'échelle, il faut adapter le nombre de composantes principales en fonction du volume des données et du pourcentage de variance expliquée souhaité.\n",
    "- Pour résoudre les problématiques de complexité en mémoire et en temps de calcul, il faut :\n",
    "  - Adapter les infrastructures (par exemple choisir une instance avec plus de RAM et plus de processeurs, utiliser un cluster de plusieurs serveurs ou machines, etc.).\n",
    "  - Adapter les algorithmes à la large échelle ou Large Scale Learning (utiliser les approches stochastiques, installer TensorFlow-GPU ou utiliser TensorFlow-TPU, etc.).\n",
    "- Il est possible de suivre les jobs Spark avec l’interface graphique Spark Web UI."
   ]
  },
  {
   "cell_type": "code",
   "execution_count": null,
   "id": "f14d0916",
   "metadata": {},
   "outputs": [],
   "source": []
  }
 ],
 "metadata": {
  "kernelspec": {
   "display_name": "Python 3 (ipykernel)",
   "language": "python",
   "name": "python3"
  },
  "language_info": {
   "codemirror_mode": {
    "name": "ipython",
    "version": 3
   },
   "file_extension": ".py",
   "mimetype": "text/x-python",
   "name": "python",
   "nbconvert_exporter": "python",
   "pygments_lexer": "ipython3",
   "version": "3.8.10"
  }
 },
 "nbformat": 4,
 "nbformat_minor": 5
}
